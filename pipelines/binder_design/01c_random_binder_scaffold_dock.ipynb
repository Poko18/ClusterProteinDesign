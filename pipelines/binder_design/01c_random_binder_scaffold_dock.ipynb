{
 "cells": [
  {
   "cell_type": "code",
   "execution_count": 4,
   "metadata": {},
   "outputs": [],
   "source": [
    "import os\n",
    "import subprocess"
   ]
  },
  {
   "attachments": {},
   "cell_type": "markdown",
   "metadata": {},
   "source": [
    "## Input parameters\n",
    "- Specify target pdb, target hotspots , contigs and if binder sequence gets threaded before AF2\n",
    "- Set the number of jobs to run\n",
    "- Define number of RFdiffusion docking we want to perform and number of ProteinMPNN sequences to sample per diffusion --> total designs = RFdockings * mpnn_per_design\n",
    "- Other parameters"
   ]
  },
  {
   "cell_type": "code",
   "execution_count": 87,
   "metadata": {},
   "outputs": [
    {
     "name": "stdout",
     "output_type": "stream",
     "text": [
      "This will generate 20000 designs per array job!\n"
     ]
    }
   ],
   "source": [
    "array_number=20 # If sequence scaffolds, then it should product of number 7\n",
    "array_limit=20\n",
    "\n",
    "thread_binders=True #if True, poly-GLY binders will be threaded and relaxed before ProteinMPNN\n",
    "\n",
    "prefix=\"pcsk9_v4\"\n",
    "target_pdb=\"examples/pcsk9_target_short.pdb\"\n",
    "#output=\"output/$prefix\" # output gets created by rfdiffusion\n",
    "hotspots='ppi.hotspot_res=[A1,A3,A86,A217,A220,A228]'\n",
    "contigs=\"'contigmap.contigs=[A1-250/0 40-70]'\"\n",
    "\n",
    "num_of_diffusions=5 # Number of RF diffusions per script\n",
    "total_mpnn=20 # Total mpnn sequences for per design\n",
    "mpnn_per_design=20 # Filtered mpnn sequences for AF2\n",
    "\n",
    "# Other parameters\n",
    "num_recycles=9 # AF2 recycles\n",
    "sampling_temp=0.15 # ProteinMPNN sampling temperature\n",
    "print(f\"This will generate {num_of_diffusions*mpnn_per_design} designs per array job!\")"
   ]
  },
  {
   "attachments": {},
   "cell_type": "markdown",
   "metadata": {},
   "source": [
    "## Runs slurm array script"
   ]
  },
  {
   "cell_type": "code",
   "execution_count": 88,
   "metadata": {},
   "outputs": [
    {
     "name": "stdout",
     "output_type": "stream",
     "text": [
      "Submitted batch job 211291\n",
      "command: sbatch --job-name=pcsk9_v4_binder_docking --array=1-20%20 helper_scripts/binder_dock_random_scaff.sh 100 200 200 9 0.15 pcsk9_v4 examples/pcsk9_target_short.pdb ppi.hotspot_res=[A1,A3,A86,A217,A220,A228] 'contigmap.contigs=[A1-250/0 40-70]' --thread_sequence\n"
     ]
    }
   ],
   "source": [
    "script_arguments=f\"{num_of_diffusions} {total_mpnn} {mpnn_per_design} {num_recycles} {sampling_temp} {prefix} {target_pdb} {hotspots} {contigs}\"\n",
    "if thread_binders:\n",
    "    script_arguments=f\"{script_arguments} --thread_sequence\"\n",
    "\n",
    "bash_arguments=f\"--output=/dev/null --job-name={prefix}_binder_docking --array=1-{array_number}%{array_limit}\"\n",
    "\n",
    "command = f\"sbatch {bash_arguments} helper_scripts/binder_dock_random_scaff.sh {script_arguments}\"\n",
    "\n",
    "# Run the array bash script\n",
    "subprocess.run(command, shell=True)\n",
    "print(f\"command: {command}\")"
   ]
  },
  {
   "cell_type": "code",
   "execution_count": 90,
   "metadata": {},
   "outputs": [
    {
     "name": "stdout",
     "output_type": "stream",
     "text": [
      "             JOBID PARTITION     NAME     USER ST       TIME  NODES NODELIST(REASON)\n",
      "          211291_1       gpu pcsk9_v4  tsatler  R       1:11      1 compute-0-11\n",
      "          211291_2       gpu pcsk9_v4  tsatler  R       1:11      1 compute-0-11\n",
      "          211291_3       gpu pcsk9_v4  tsatler  R       1:11      1 compute-0-11\n",
      "          211291_4       gpu pcsk9_v4  tsatler  R       1:11      1 compute-0-11\n",
      "          211291_5       gpu pcsk9_v4  tsatler  R       1:11      1 compute-0-11\n",
      "          211291_6       gpu pcsk9_v4  tsatler  R       1:11      1 compute-0-11\n",
      "          211291_7       gpu pcsk9_v4  tsatler  R       1:11      1 compute-0-12\n",
      "          211291_8       gpu pcsk9_v4  tsatler  R       1:11      1 compute-0-12\n",
      "          211291_9       gpu pcsk9_v4  tsatler  R       1:11      1 compute-0-12\n",
      "         211291_10       gpu pcsk9_v4  tsatler  R       1:11      1 compute-0-12\n",
      "         211291_11       gpu pcsk9_v4  tsatler  R       1:11      1 compute-0-12\n",
      "         211291_12       gpu pcsk9_v4  tsatler  R       1:11      1 compute-0-12\n",
      "         211291_13       gpu pcsk9_v4  tsatler  R       1:11      1 compute-0-12\n",
      "         211291_14       gpu pcsk9_v4  tsatler  R       1:11      1 compute-0-12\n",
      "         211291_15       gpu pcsk9_v4  tsatler  R       1:11      1 compute-6-3\n",
      "         211291_16       gpu pcsk9_v4  tsatler  R       1:11      1 compute-6-3\n",
      "         211291_17       gpu pcsk9_v4  tsatler  R       1:11      1 compute-6-3\n",
      "         211291_18       gpu pcsk9_v4  tsatler  R       1:11      1 compute-6-3\n",
      "         211291_19       gpu pcsk9_v4  tsatler  R       1:11      1 compute-6-3\n",
      "         211291_20       gpu pcsk9_v4  tsatler  R       1:11      1 compute-6-3\n"
     ]
    }
   ],
   "source": [
    "!squeue --me"
   ]
  },
  {
   "cell_type": "code",
   "execution_count": null,
   "metadata": {},
   "outputs": [],
   "source": []
  }
 ],
 "metadata": {
  "kernelspec": {
   "display_name": "pyro",
   "language": "python",
   "name": "python3"
  },
  "language_info": {
   "codemirror_mode": {
    "name": "ipython",
    "version": 3
   },
   "file_extension": ".py",
   "mimetype": "text/x-python",
   "name": "python",
   "nbconvert_exporter": "python",
   "pygments_lexer": "ipython3",
   "version": "3.9.7"
  },
  "orig_nbformat": 4
 },
 "nbformat": 4,
 "nbformat_minor": 2
}
