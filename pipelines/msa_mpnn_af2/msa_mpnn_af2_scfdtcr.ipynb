{
 "cells": [
  {
   "cell_type": "code",
   "execution_count": 1,
   "metadata": {},
   "outputs": [],
   "source": [
    "import os, sys\n",
    "import pandas as pd\n",
    "import shutil\n",
    "import subprocess\n",
    "import numpy as np\n",
    "import json\n",
    "import glob"
   ]
  },
  {
   "cell_type": "markdown",
   "metadata": {},
   "source": [
    "## Inputs"
   ]
  },
  {
   "cell_type": "code",
   "execution_count": 2,
   "metadata": {},
   "outputs": [],
   "source": [
    "input=\"scfd_tcr\"\n",
    "input_pdb=\"/home/tsatler/RFdif/ClusterProteinDesign/scripts/msa_mpnn_af2/input/scfd_tcr/gdscIgV_AF.pdb\"\n",
    "input_a3m=\"\"\n",
    "\n",
    "fix_positions=np.array([144,147,148,149,151,153,198,201,216,217]) # Positions to fix (numbering should be the same as with input sequence)\n",
    "conservation=[0.5, 0.7] # Fraction of conserved residues to fix\n",
    "\n",
    "# prepare out dir\n",
    "os.makedirs(f\"input/{input}\", exist_ok=True)\n",
    "os.makedirs(f\"output/{input}\", exist_ok=True)"
   ]
  },
  {
   "cell_type": "markdown",
   "metadata": {},
   "source": [
    "## Functions"
   ]
  },
  {
   "cell_type": "code",
   "execution_count": 3,
   "metadata": {},
   "outputs": [],
   "source": [
    "sys.path.append('helper_scripts/')\n",
    "from mmseq_api import run_mmseq2_msa_rosettafold, generate_fasta_sequence_from_pdb, parse_fasta\n",
    "from parse_msa import get_conserved_positions, process_a3m_file_rf2\n",
    "from parse_mpnn_seqs import extract_scores, calculate_seq_identity\n",
    "from plot_scores import create_and_save_plot"
   ]
  },
  {
   "cell_type": "markdown",
   "metadata": {},
   "source": [
    "## get input sequence"
   ]
  },
  {
   "cell_type": "code",
   "execution_count": 6,
   "metadata": {},
   "outputs": [
    {
     "name": "stdout",
     "output_type": "stream",
     "text": [
      "Chain A: 253\n"
     ]
    },
    {
     "data": {
      "text/plain": [
       "{'A': 'IELVPEHQTVPVSIGVPATLRCSMKGEAIGNYYINWYRKTQGNTMTFIYREKDIYGPGFKDNFQGDIDIAKNLAVLKILAPSERDEGSYYCASDTLGMGGEYTDKLIFGKGTRVTVEGGGGSGGGGSGGGGSGHLEQPQISSTKTLSKTARLECVVSGITISATSVYWYRERPGEVIQFLVSISYDGTVRKESGIPSGKFEVDRIPETSTSTLTIHNVEKQDIATYYCALWEAQQELGKKIKVFGPGTKLIIT'}"
      ]
     },
     "execution_count": 6,
     "metadata": {},
     "output_type": "execute_result"
    }
   ],
   "source": [
    "# Parse PDB\n",
    "seqs = generate_fasta_sequence_from_pdb(input_pdb,f\"input/{input}/\")\n",
    "for chain_name, sequence in seqs.items():\n",
    "    print(f\"Chain {chain_name}: {len(sequence)}\")\n",
    "seqs"
   ]
  },
  {
   "cell_type": "code",
   "execution_count": 7,
   "metadata": {},
   "outputs": [
    {
     "data": {
      "text/plain": [
       "'IELVPEHQTVPVSIGVPATLRCSMKGEAIGNYYINWYRKTQGNTMTFIYREKDIYGPGFKDNFQGDIDIAKNLAVLKILAPSERDEGSYYCASDTLGMGGEYTDKLIFGKGTRVTVEGGGGSGGGGSGGGGSGHLEQPQISSTKTLSKTARLECVVSGITISATSVYWYRERPGEVIQFLVSISYDGTVRKESGIPSGKFEVDRIPETSTSTLTIHNVEKQDIATYYCALWEAQQELGKKIKVFGPGTKLIIT'"
      ]
     },
     "execution_count": 7,
     "metadata": {},
     "output_type": "execute_result"
    }
   ],
   "source": [
    "# Input sequence\n",
    "input_sequence = \":\".join(seqs.values())\n",
    "input_sequence"
   ]
  },
  {
   "cell_type": "markdown",
   "metadata": {},
   "source": [
    "## MSA generation"
   ]
  },
  {
   "cell_type": "code",
   "execution_count": 8,
   "metadata": {},
   "outputs": [
    {
     "name": "stdout",
     "output_type": "stream",
     "text": [
      "MSA does not exits... GENERATING NEW ONE!\n",
      "Starting MSA...\n",
      "getting unpaired MSA\n"
     ]
    },
    {
     "name": "stderr",
     "output_type": "stream",
     "text": [
      "sh: hhfilter: command not found\n"
     ]
    },
    {
     "ename": "FileNotFoundError",
     "evalue": "[Errno 2] No such file or directory: 'output/scfd_tcr/msa/out_msa_0.a3m'",
     "output_type": "error",
     "traceback": [
      "\u001b[0;31m---------------------------------------------------------------------------\u001b[0m",
      "\u001b[0;31mFileNotFoundError\u001b[0m                         Traceback (most recent call last)",
      "\u001b[1;32m/home/tsatler/RFdif/ClusterProteinDesign/scripts/msa_mpnn_af2/msa_mpnn_af2.ipynb Cell 10\u001b[0m line \u001b[0;36m7\n\u001b[1;32m      <a href='vscode-notebook-cell://ssh-remote%2Barc/home/tsatler/RFdif/ClusterProteinDesign/scripts/msa_mpnn_af2/msa_mpnn_af2.ipynb#X12sdnNjb2RlLXJlbW90ZQ%3D%3D?line=4'>5</a>\u001b[0m \u001b[39mif\u001b[39;00m input_sequence \u001b[39mand\u001b[39;00m \u001b[39mnot\u001b[39;00m input_a3m:\n\u001b[1;32m      <a href='vscode-notebook-cell://ssh-remote%2Barc/home/tsatler/RFdif/ClusterProteinDesign/scripts/msa_mpnn_af2/msa_mpnn_af2.ipynb#X12sdnNjb2RlLXJlbW90ZQ%3D%3D?line=5'>6</a>\u001b[0m     \u001b[39mprint\u001b[39m(\u001b[39m\"\u001b[39m\u001b[39mMSA does not exits... GENERATING NEW ONE!\u001b[39m\u001b[39m\"\u001b[39m)\n\u001b[0;32m----> <a href='vscode-notebook-cell://ssh-remote%2Barc/home/tsatler/RFdif/ClusterProteinDesign/scripts/msa_mpnn_af2/msa_mpnn_af2.ipynb#X12sdnNjb2RlLXJlbW90ZQ%3D%3D?line=6'>7</a>\u001b[0m     run_mmseq2_msa_rosettafold(input_sequence,\u001b[39mf\u001b[39;49m\u001b[39m\"\u001b[39;49m\u001b[39moutput/\u001b[39;49m\u001b[39m{\u001b[39;49;00m\u001b[39minput\u001b[39;49m\u001b[39m}\u001b[39;49;00m\u001b[39m\"\u001b[39;49m,cov\u001b[39m=\u001b[39;49m\u001b[39m50\u001b[39;49m, \u001b[39mid\u001b[39;49m\u001b[39m=\u001b[39;49m\u001b[39m90\u001b[39;49m, max_msa\u001b[39m=\u001b[39;49m\u001b[39m2048\u001b[39;49m,mode\u001b[39m=\u001b[39;49m\u001b[39m\"\u001b[39;49m\u001b[39munpaired_paired\u001b[39;49m\u001b[39m\"\u001b[39;49m, msa_name\u001b[39m=\u001b[39;49m\u001b[39m\"\u001b[39;49m\u001b[39mmsa\u001b[39;49m\u001b[39m\"\u001b[39;49m)\n\u001b[1;32m      <a href='vscode-notebook-cell://ssh-remote%2Barc/home/tsatler/RFdif/ClusterProteinDesign/scripts/msa_mpnn_af2/msa_mpnn_af2.ipynb#X12sdnNjb2RlLXJlbW90ZQ%3D%3D?line=7'>8</a>\u001b[0m \u001b[39melse\u001b[39;00m:\n\u001b[1;32m      <a href='vscode-notebook-cell://ssh-remote%2Barc/home/tsatler/RFdif/ClusterProteinDesign/scripts/msa_mpnn_af2/msa_mpnn_af2.ipynb#X12sdnNjb2RlLXJlbW90ZQ%3D%3D?line=8'>9</a>\u001b[0m     \u001b[39mprint\u001b[39m(\u001b[39m\"\u001b[39m\u001b[39mProvide either sequence for MSA generation or a3m file!\u001b[39m\u001b[39m\"\u001b[39m)\n",
      "File \u001b[0;32m~/RFdif/ClusterProteinDesign/scripts/msa_mpnn_af2/helper_scripts/mmseq_api.py:112\u001b[0m, in \u001b[0;36mrun_mmseq2_msa_rosettafold\u001b[0;34m(seq, jobname, cov, id, max_msa, mode, msa_name)\u001b[0m\n\u001b[1;32m    109\u001b[0m seq \u001b[39m=\u001b[39m seq\u001b[39m.\u001b[39mreplace(\u001b[39m\"\u001b[39m\u001b[39m:\u001b[39m\u001b[39m\"\u001b[39m, \u001b[39m\"\u001b[39m\u001b[39m/\u001b[39m\u001b[39m\"\u001b[39m)\u001b[39m.\u001b[39msplit(\u001b[39m\"\u001b[39m\u001b[39m/\u001b[39m\u001b[39m\"\u001b[39m)\n\u001b[1;32m    111\u001b[0m \u001b[39mprint\u001b[39m(\u001b[39m\"\u001b[39m\u001b[39mStarting MSA...\u001b[39m\u001b[39m\"\u001b[39m)\n\u001b[0;32m--> 112\u001b[0m get_msa(seq, jobname, cov\u001b[39m=\u001b[39;49mcov, \u001b[39mid\u001b[39;49m\u001b[39m=\u001b[39;49m\u001b[39mid\u001b[39;49m, max_msa\u001b[39m=\u001b[39;49mmax_msa, mode\u001b[39m=\u001b[39;49mmode, msa_name\u001b[39m=\u001b[39;49mmsa_name)\n\u001b[1;32m    115\u001b[0m \u001b[39mprint\u001b[39m(\u001b[39m\"\u001b[39m\u001b[39mDone!\u001b[39m\u001b[39m\"\u001b[39m)\n",
      "File \u001b[0;32m~/RFdif/ClusterProteinDesign/scripts/msa_mpnn_af2/helper_scripts/mmseq_api.py:177\u001b[0m, in \u001b[0;36mget_msa\u001b[0;34m(seq, jobname, cov, id, max_msa, mode, msa_name)\u001b[0m\n\u001b[1;32m    175\u001b[0m \u001b[39m# filter\u001b[39;00m\n\u001b[1;32m    176\u001b[0m os\u001b[39m.\u001b[39msystem(\u001b[39mf\u001b[39m\u001b[39m\"\u001b[39m\u001b[39mhhfilter -i \u001b[39m\u001b[39m{\u001b[39;00mpath\u001b[39m}\u001b[39;00m\u001b[39m/in_\u001b[39m\u001b[39m{\u001b[39;00mmsa_name\u001b[39m}\u001b[39;00m\u001b[39m_\u001b[39m\u001b[39m{\u001b[39;00mn\u001b[39m}\u001b[39;00m\u001b[39m.a3m -id \u001b[39m\u001b[39m{\u001b[39;00m\u001b[39mid\u001b[39m\u001b[39m}\u001b[39;00m\u001b[39m -cov \u001b[39m\u001b[39m{\u001b[39;00mcov\u001b[39m}\u001b[39;00m\u001b[39m -o \u001b[39m\u001b[39m{\u001b[39;00mpath\u001b[39m}\u001b[39;00m\u001b[39m/out_\u001b[39m\u001b[39m{\u001b[39;00mmsa_name\u001b[39m}\u001b[39;00m\u001b[39m_\u001b[39m\u001b[39m{\u001b[39;00mn\u001b[39m}\u001b[39;00m\u001b[39m.a3m\u001b[39m\u001b[39m\"\u001b[39m)\n\u001b[0;32m--> 177\u001b[0m \u001b[39mwith\u001b[39;00m \u001b[39mopen\u001b[39;49m(\u001b[39mf\u001b[39;49m\u001b[39m\"\u001b[39;49m\u001b[39m{\u001b[39;49;00mpath\u001b[39m}\u001b[39;49;00m\u001b[39m/out_\u001b[39;49m\u001b[39m{\u001b[39;49;00mmsa_name\u001b[39m}\u001b[39;49;00m\u001b[39m_\u001b[39;49m\u001b[39m{\u001b[39;49;00mn\u001b[39m}\u001b[39;49;00m\u001b[39m.a3m\u001b[39;49m\u001b[39m\"\u001b[39;49m,\u001b[39m\"\u001b[39;49m\u001b[39mr\u001b[39;49m\u001b[39m\"\u001b[39;49m) \u001b[39mas\u001b[39;00m handle:\n\u001b[1;32m    178\u001b[0m   \u001b[39mfor\u001b[39;00m line \u001b[39min\u001b[39;00m handle:\n\u001b[1;32m    179\u001b[0m     \u001b[39mif\u001b[39;00m \u001b[39mnot\u001b[39;00m line\u001b[39m.\u001b[39mstartswith(\u001b[39m\"\u001b[39m\u001b[39m>\u001b[39m\u001b[39m\"\u001b[39m):\n",
      "\u001b[0;31mFileNotFoundError\u001b[0m: [Errno 2] No such file or directory: 'output/scfd_tcr/msa/out_msa_0.a3m'"
     ]
    }
   ],
   "source": [
    "msa_path=f\"input/{input}/{input}.a3m\"\n",
    "if input_a3m:\n",
    "    shutil.copy2(input_a3m,msa_path)\n",
    "    print(f\"MSA as input - {input_a3m} (copeid to {msa_path})\")\n",
    "if input_sequence and not input_a3m:\n",
    "    print(\"MSA does not exits... GENERATING NEW ONE!\")\n",
    "    run_mmseq2_msa_rosettafold(input_sequence,f\"output/{input}\",cov=50, id=90, max_msa=2048,mode=\"unpaired_paired\", msa_name=\"msa\")\n",
    "else:\n",
    "    print(\"Provide either sequence for MSA generation or a3m file!\")\n",
    "    "
   ]
  },
  {
   "cell_type": "code",
   "execution_count": 95,
   "metadata": {},
   "outputs": [],
   "source": [
    "#debug\n",
    "#run_mmseq2_msa_rosettafold(input_sequence,f\"output/{input}\",cov=50, id=90, max_msa=2048, mode=\"unpaired_paired\", msa_name=\"msa\")"
   ]
  },
  {
   "cell_type": "markdown",
   "metadata": {},
   "source": [
    "## Get conserved residues"
   ]
  },
  {
   "cell_type": "code",
   "execution_count": 12,
   "metadata": {},
   "outputs": [],
   "source": [
    "conserved_positions_dict = {}\n",
    "fixed_positions_dict = {}\n",
    "\n",
    "for conv_frac in conservation:\n",
    "    conserved_positions = get_conserved_positions(msa_path, frac_conserved=conv_frac, min_count=10)\n",
    "    conserved_positions_dict[conv_frac] = conserved_positions\n",
    "    fixed_positions_dict[conv_frac] = np.unique(np.hstack((conserved_positions, fix_positions)))"
   ]
  },
  {
   "cell_type": "code",
   "execution_count": 13,
   "metadata": {},
   "outputs": [
    {
     "name": "stdout",
     "output_type": "stream",
     "text": [
      "For conservation 50.0%, conserved residues: 126 (with fixed: 132)\n",
      "For conservation 70.0%, conserved residues: 177 (with fixed: 181)\n",
      "\n",
      "saved data in output/scfd_tcr/input_data.json\n",
      "\n",
      "select in chimera:\n",
      "50.0% conserved:\n",
      "select #1/A:1,2,3,4,5,6,7,11,12,14,15,17,20,21,22,25,26,32,36,37,38,39,41,42,45,46,47,55,58,59,62,63,64,66,68,70,72,73,76,78,79,80,81,84,85,86,87,89,90,91,92,108,109,110,111,112,114,115,116,117,118,119,120,123,124,125,128,129,130,135,137,139,141,143,144,147,148,149,150,151,152,153,154,157,168,169,170,171,172,173,174,177,180,182,185,193,194,195,196,197,198,199,200,201,202,203,204,205,207,213,214,215,216,217,218,219,221,222,224,226,227,228,229,231,244,245,247,248,249,250,252,253\n",
      "70.0% conserved:\n",
      "select #1/A:1,2,3,4,5,6,7,8,9,11,12,13,14,15,17,18,20,21,22,23,24,25,26,29,31,32,33,36,37,38,39,41,42,43,44,45,46,47,48,50,55,58,59,60,61,62,63,64,65,66,68,70,72,73,74,75,76,77,78,79,80,81,82,84,85,86,87,88,89,90,91,92,93,108,109,110,111,112,114,115,116,117,118,119,120,121,122,123,124,125,127,128,129,130,135,136,137,139,141,143,144,145,146,147,148,149,150,151,152,153,154,157,158,162,166,168,169,170,171,172,173,174,176,177,179,180,181,182,185,186,193,194,195,196,197,198,199,200,201,202,203,204,205,207,208,209,212,213,214,215,216,217,218,219,220,221,222,223,224,225,226,227,228,229,231,232,233,235,236,239,241,243,244,245,247,248,249,250,251,252,253\n"
     ]
    }
   ],
   "source": [
    "# Print\n",
    "for conv_frac in conservation: \n",
    "    #positions_dict[conv_frac] = (len(conserved_positions), len(fixed_positions))\n",
    "    print(f\"For conservation {conv_frac:.1%}, conserved residues: {len(conserved_positions_dict[conv_frac])} (with fixed: {len(fixed_positions_dict[conv_frac])})\")\n",
    "\n",
    "# Create a dictionary to save in the JSON file\n",
    "data = {\n",
    "    'conserved_positions_dict': {k: v.tolist() for k, v in conserved_positions_dict.items()},\n",
    "    'fixed_positions_dict': {k: v.tolist() for k, v in fixed_positions_dict.items()},\n",
    "    'fix_positions': fix_positions.tolist(),\n",
    "    'input_sequence': input_sequence,\n",
    "    'msa_path': msa_path\n",
    "}\n",
    "with open(f'output/{input}/input_data.json', 'w') as json_file:\n",
    "    json.dump(data, json_file, indent=4)\n",
    "print(f\"\\nsaved data in {f'output/{input}/input_data.json'}\\n\")\n",
    "\n",
    "# Chimera\n",
    "print(\"select in chimera:\")\n",
    "for conv_frac, positions in fixed_positions_dict.items():\n",
    "    print(f\"{100*conv_frac}% conserved:\")\n",
    "    print(f\"select #1/A:{','.join(map(str, positions))}\")"
   ]
  },
  {
   "cell_type": "markdown",
   "metadata": {},
   "source": [
    "## Prepare for MPNN"
   ]
  },
  {
   "cell_type": "code",
   "execution_count": 134,
   "metadata": {},
   "outputs": [
    {
     "name": "stdout",
     "output_type": "stream",
     "text": [
      "designing chains: A\n"
     ]
    }
   ],
   "source": [
    "### ProteinMPNN setup\n",
    "proteinmpnn_dir = '/home/tsatler/ProteinMPNN'\n",
    "parse_multiple_chains_script = f'{proteinmpnn_dir}/helper_scripts/parse_multiple_chains.py'\n",
    "assign_fixed_chains_script = f'{proteinmpnn_dir}/helper_scripts/assign_fixed_chains.py'\n",
    "make_fixed_position_script = f'{proteinmpnn_dir}/helper_scripts/make_fixed_positions_dict.py'\n",
    "make_tied_position_script = f'{proteinmpnn_dir}/helper_scripts/make_tied_positions_dict.py'\n",
    "\n",
    "\n",
    "### mpnn parameters\n",
    "mpnn_temp=[0.1, 0.2, 0.3]\n",
    "soluble_weights=True\n",
    "number_of_seq=500\n",
    "\n",
    "# copy pdb to separate folder\n",
    "mpnn_pdb=f\"input/{input}/mpnn_pdb/\"\n",
    "os.makedirs(mpnn_pdb, exist_ok=True)\n",
    "shutil.copy2(input_pdb,mpnn_pdb)\n",
    "\n",
    "# chains to design\n",
    "chains_to_design=\"\"\n",
    "chains_to_design=\",\".join(seqs.keys())\n",
    "print(f\"designing chains: {chains_to_design}\")\n",
    "\n",
    "# use soluble weights\n",
    "soluble_weights_flag=\"\"\n",
    "if soluble_weights:\n",
    "    soluble_weights_flag=\" --use_soluble_model\"\n",
    "\n",
    "# temps\n",
    "temps=\" \".join(map(str, mpnn_temp))"
   ]
  },
  {
   "cell_type": "code",
   "execution_count": 136,
   "metadata": {},
   "outputs": [
    {
     "name": "stdout",
     "output_type": "stream",
     "text": [
      "Writing mpnn submission script to output/scfd_tcr/mpnn_out/run_mpnn_50.sh\n",
      "Writing mpnn submission script to output/scfd_tcr/mpnn_out/run_mpnn_70.sh\n"
     ]
    }
   ],
   "source": [
    "### Prepare MPNN script\n",
    "mpnn_outdir=f\"output/{input}/mpnn_out\"\n",
    "os.makedirs(mpnn_outdir, exist_ok=True)\n",
    "\n",
    "for conv_frac, positions in fixed_positions_dict.items():\n",
    "    fixed_positions=' '.join([str(i) for i in positions])\n",
    "    conv_perc=int(conv_frac*100)\n",
    "    seq_out=f\"{mpnn_outdir}/mpnn_conv{conv_perc}\"\n",
    "    os.makedirs(seq_out, exist_ok=True)\n",
    "\n",
    "    mpnn_txt = \\\n",
    "f'''#!/bin/bash\n",
    "#SBATCH -J scFvCD19-mpnn\n",
    "#SBATCH -p gpu\n",
    "#SBATCH --gres=gpu:A40:1\n",
    "#SBATCH --output={mpnn_outdir}/mpnn_conv{conv_perc}.out\n",
    "\n",
    "source /home/tsatler/anaconda3/etc/profile.d/conda.sh\n",
    "conda activate mlfold\n",
    "\n",
    "folder_with_pdbs='{mpnn_pdb}'\n",
    "path_for_parsed_chains='{seq_out}/parsed_pdbs.jsonl'\n",
    "path_for_assigned_chains='{seq_out}/assigned_pdbs.jsonl'\n",
    "path_for_fixed_positions='{seq_out}/fixed_pdbs.jsonl'\n",
    "path_for_tied_positions='{seq_out}/tied_pdbs.jsonl'\n",
    "chains_to_design=\"{chains_to_design}\"\n",
    "path_for_designed_sequences='{seq_out}' \n",
    "\n",
    "python {parse_multiple_chains_script} --input_path=$folder_with_pdbs --output_path=$path_for_parsed_chains\n",
    "python {assign_fixed_chains_script} --input_path=$path_for_parsed_chains --output_path=$path_for_assigned_chains --chain_list \"$chains_to_design\"\n",
    "python {make_fixed_position_script} --input_path=$path_for_parsed_chains --position_list \"{fixed_positions}\" --chain_list \"$chains_to_design\" --output_path=$path_for_fixed_positions\n",
    "python {make_tied_position_script} --input_path=$path_for_parsed_chains --output_path=$path_for_tied_positions --homooligomer 1\n",
    "\n",
    "python {proteinmpnn_dir}/protein_mpnn_run.py \\\n",
    "    --jsonl_path $path_for_parsed_chains \\\n",
    "    --chain_id_jsonl $path_for_assigned_chains \\\n",
    "    --fixed_positions_jsonl $path_for_fixed_positions \\\n",
    "    --tied_positions_jsonl $path_for_tied_positions \\\n",
    "    --out_folder $path_for_designed_sequences \\\n",
    "    --num_seq_per_target {number_of_seq} \\\n",
    "    --sampling_temp \"{temps}\" \\\n",
    "    --batch_size 8 \\\n",
    "    --omit_AAs='XC' {soluble_weights_flag}\n",
    "    '''\n",
    "    script=f\"{mpnn_outdir}/run_mpnn_{conv_perc}.sh\"\n",
    "\n",
    "    with open(script,'w') as f:\n",
    "        f.write(mpnn_txt)\n",
    "        print(f\"Writing mpnn submission script to {script}\")\n"
   ]
  },
  {
   "cell_type": "code",
   "execution_count": 137,
   "metadata": {},
   "outputs": [
    {
     "name": "stdout",
     "output_type": "stream",
     "text": [
      "Submitted batch job 288543\n",
      "Submitted batch job 288544\n"
     ]
    }
   ],
   "source": [
    "### submit\n",
    "for conv_frac, positions in fixed_positions_dict.items():\n",
    "    conv_perc=int(conv_frac*100)\n",
    "    mpnn_outdir=f\"output/{input}/mpnn_out\"\n",
    "    script=f\"{mpnn_outdir}/run_mpnn_{conv_perc}.sh\"\n",
    "    cmd=f\"sbatch {script}\"\n",
    "    subprocess.run(cmd, shell=True)"
   ]
  },
  {
   "cell_type": "code",
   "execution_count": 138,
   "metadata": {},
   "outputs": [
    {
     "name": "stdout",
     "output_type": "stream",
     "text": [
      "             JOBID PARTITION     NAME     USER ST       TIME  NODES NODELIST(REASON)\n",
      "            288543       amd run_mpnn  tsatler  R       0:01      1 compute-0-3\n",
      "            288544       amd run_mpnn  tsatler  R       0:01      1 compute-0-3\n"
     ]
    }
   ],
   "source": [
    "!squeue --me"
   ]
  },
  {
   "cell_type": "markdown",
   "metadata": {},
   "source": [
    "## Parse MPNN sequences"
   ]
  },
  {
   "cell_type": "code",
   "execution_count": 4,
   "metadata": {},
   "outputs": [
    {
     "name": "stdout",
     "output_type": "stream",
     "text": [
      "Loaded data from: output/scfd_tcr/input_data.json\n",
      "conserved_positions_dict: {'0.5': [222, 154, 89, 226, 228, 91, 22, 168, 85, 36, 247, 213, 245, 248, 109, 90, 173, 111, 15, 68, 200, 174, 39, 87, 171, 76, 112, 224, 41, 199, 227, 62, 1, 42, 215, 203, 25, 194, 116, 157, 169, 26, 231, 207, 70, 84, 147, 249, 2, 63, 221, 250, 72, 141, 66, 180, 115, 139, 229, 177, 137, 118, 14, 244, 170, 201, 205, 196, 152, 3, 202, 218, 92, 253, 185, 182, 193, 20, 32, 81, 12, 252, 172, 197, 150, 119, 38, 78, 114, 214, 120, 46, 135, 216, 129, 195, 55, 21, 108, 5, 47, 219, 125, 117, 6, 58, 37, 45, 143, 110, 7, 204, 11, 4, 124, 128, 86, 79, 151, 17, 73, 123, 59, 80, 64, 130], '0.7': [222, 154, 89, 226, 228, 91, 22, 168, 85, 36, 247, 213, 245, 248, 109, 90, 173, 111, 15, 68, 200, 174, 39, 87, 171, 76, 112, 224, 41, 199, 227, 62, 1, 42, 215, 203, 25, 194, 116, 157, 169, 26, 231, 207, 70, 84, 147, 249, 2, 63, 221, 250, 72, 141, 66, 180, 115, 139, 229, 177, 137, 118, 14, 244, 170, 201, 205, 196, 152, 3, 202, 218, 92, 253, 185, 182, 193, 20, 32, 81, 12, 252, 172, 197, 150, 119, 38, 78, 114, 214, 120, 46, 135, 216, 129, 195, 55, 21, 108, 5, 47, 219, 125, 117, 6, 58, 37, 45, 143, 110, 7, 204, 11, 4, 124, 128, 86, 79, 151, 17, 73, 123, 59, 80, 64, 130, 136, 233, 209, 18, 145, 158, 181, 65, 9, 60, 208, 146, 88, 212, 33, 235, 44, 223, 166, 74, 162, 186, 31, 179, 75, 82, 24, 243, 236, 251, 93, 13, 8, 50, 77, 176, 241, 122, 153, 121, 48, 220, 239, 29, 43, 225, 23, 61, 127, 198, 232]}\n",
      "fixed_positions_dict: {'0.5': [1, 2, 3, 4, 5, 6, 7, 11, 12, 14, 15, 17, 20, 21, 22, 25, 26, 32, 36, 37, 38, 39, 41, 42, 45, 46, 47, 55, 58, 59, 62, 63, 64, 66, 68, 70, 72, 73, 76, 78, 79, 80, 81, 84, 85, 86, 87, 89, 90, 91, 92, 108, 109, 110, 111, 112, 114, 115, 116, 117, 118, 119, 120, 123, 124, 125, 128, 129, 130, 135, 137, 139, 141, 143, 144, 147, 148, 149, 150, 151, 152, 153, 154, 157, 168, 169, 170, 171, 172, 173, 174, 177, 180, 182, 185, 193, 194, 195, 196, 197, 198, 199, 200, 201, 202, 203, 204, 205, 207, 213, 214, 215, 216, 217, 218, 219, 221, 222, 224, 226, 227, 228, 229, 231, 244, 245, 247, 248, 249, 250, 252, 253], '0.7': [1, 2, 3, 4, 5, 6, 7, 8, 9, 11, 12, 13, 14, 15, 17, 18, 20, 21, 22, 23, 24, 25, 26, 29, 31, 32, 33, 36, 37, 38, 39, 41, 42, 43, 44, 45, 46, 47, 48, 50, 55, 58, 59, 60, 61, 62, 63, 64, 65, 66, 68, 70, 72, 73, 74, 75, 76, 77, 78, 79, 80, 81, 82, 84, 85, 86, 87, 88, 89, 90, 91, 92, 93, 108, 109, 110, 111, 112, 114, 115, 116, 117, 118, 119, 120, 121, 122, 123, 124, 125, 127, 128, 129, 130, 135, 136, 137, 139, 141, 143, 144, 145, 146, 147, 148, 149, 150, 151, 152, 153, 154, 157, 158, 162, 166, 168, 169, 170, 171, 172, 173, 174, 176, 177, 179, 180, 181, 182, 185, 186, 193, 194, 195, 196, 197, 198, 199, 200, 201, 202, 203, 204, 205, 207, 208, 209, 212, 213, 214, 215, 216, 217, 218, 219, 220, 221, 222, 223, 224, 225, 226, 227, 228, 229, 231, 232, 233, 235, 236, 239, 241, 243, 244, 245, 247, 248, 249, 250, 251, 252, 253]}\n",
      "fix_positions: [144 147 148 149 151 153 198 201 216 217]\n",
      "input_sequence: IELVPEHQTVPVSIGVPATLRCSMKGEAIGNYYINWYRKTQGNTMTFIYREKDIYGPGFKDNFQGDIDIAKNLAVLKILAPSERDEGSYYCASDTLGMGGEYTDKLIFGKGTRVTVEGGGGSGGGGSGGGGSGHLEQPQISSTKTLSKTARLECVVSGITISATSVYWYRERPGEVIQFLVSISYDGTVRKESGIPSGKFEVDRIPETSTSTLTIHNVEKQDIATYYCALWEAQQELGKKIKVFGPGTKLIIT\n",
      "msa_path: input/scfd_tcr/scfd_tcr.a3m\n"
     ]
    }
   ],
   "source": [
    "# Define the path to the JSON file\n",
    "json_file_path = f'output/{input}/input_data.json'\n",
    "with open(json_file_path, 'r') as json_file:\n",
    "    loaded_data = json.load(json_file)\n",
    "\n",
    "# Assign the loaded data to the variables\n",
    "conserved_positions_dict = loaded_data['conserved_positions_dict']\n",
    "fixed_positions_dict = loaded_data['fixed_positions_dict']\n",
    "fix_positions = np.array(loaded_data['fix_positions'])\n",
    "input_sequence = loaded_data['input_sequence']\n",
    "msa_path = loaded_data['msa_path']\n",
    "\n",
    "# Print to confirm\n",
    "print(\"Loaded data from:\", json_file_path)\n",
    "print(\"conserved_positions_dict:\", conserved_positions_dict)\n",
    "print(\"fixed_positions_dict:\", fixed_positions_dict)\n",
    "print(\"fix_positions:\", fix_positions)\n",
    "print(\"input_sequence:\", input_sequence)\n",
    "print(\"msa_path:\", msa_path)\n"
   ]
  },
  {
   "cell_type": "code",
   "execution_count": 5,
   "metadata": {},
   "outputs": [
    {
     "name": "stdout",
     "output_type": "stream",
     "text": [
      "Dataframe with 50% fixed conserved residues and 1488 sequences!\n",
      "Dataframe saved to: output/scfd_tcr/mpnn_seqs_conv50.csv\n",
      "Dataframe with 70% fixed conserved residues and 1488 sequences!\n",
      "Dataframe saved to: output/scfd_tcr/mpnn_seqs_conv70.csv\n"
     ]
    }
   ],
   "source": [
    "### Parse mpnn sequences\n",
    "mpnn_outdir=f\"output/{input}/mpnn_out\"\n",
    "for conv_frac, positions in fixed_positions_dict.items():\n",
    "    conv_perc=int(float(conv_frac)*100)\n",
    "    seqs=glob.glob(f\"{mpnn_outdir}/mpnn_conv{conv_perc}/seqs/*.fa\")[0]\n",
    "    df=extract_scores(seqs)\n",
    "    df = df.drop_duplicates(\"seq\")\n",
    "    df[\"original_seq\"]=input_sequence\n",
    "    \n",
    "    # Sequence identity to input_seq without fixed residues\n",
    "    df[\"seq_ident_nofixed\"]=df.apply(lambda row: calculate_seq_identity(row['original_seq'], row['seq'],positions), axis=1)\n",
    "    \n",
    "    # Sequence identity to input_seq\n",
    "    df[\"seq_ident\"]=df.apply(lambda row: calculate_seq_identity(row['original_seq'], row['seq'],[]), axis=1)\n",
    "    \n",
    "    # Add unique ID\n",
    "    df[\"id\"]=None\n",
    "    df = df[['id'] + [col for col in df if col != 'id']]\n",
    "\n",
    "    for i,row in df.iterrows():\n",
    "        sample_id = row[\"sample\"]\n",
    "        temp = row[\"temp\"]\n",
    "        df.at[i, 'id'] = f\"{input}_conv{conv_perc}_{sample_id}_{str(temp).replace('.', '')}\"\n",
    "\n",
    "    \n",
    "    df_save=f\"output/{input}/mpnn_out/mpnn_seqs_conv{conv_perc}.csv\"\n",
    "    df.to_csv(df_save, index=False)\n",
    "\n",
    "    print(f\"Dataframe with {conv_perc}% fixed conserved residues and {df.shape[0]} sequences!\")\n",
    "    print(f\"Dataframe saved to: {df_save}\")\n",
    "\n"
   ]
  },
  {
   "cell_type": "markdown",
   "metadata": {},
   "source": [
    "## Run AF2 predictions"
   ]
  },
  {
   "cell_type": "code",
   "execution_count": 62,
   "metadata": {},
   "outputs": [
    {
     "name": "stdout",
     "output_type": "stream",
     "text": [
      "Writing ad2 submission script to output/scfd_tcr/af2/run_af2_conv50_0.sh\n",
      "1000 a3m sequences with conv50% in output/scfd_tcr/af2/af2_msa_input_conv50_1 ready to be predicted!\n",
      "Writing ad2 submission script to output/scfd_tcr/af2/run_af2_conv50_1.sh\n",
      "488 a3m sequences with conv50% in output/scfd_tcr/af2/af2_msa_input_conv50_2 ready to be predicted!\n",
      "Writing ad2 submission script to output/scfd_tcr/af2/run_af2_conv70_0.sh\n",
      "1000 a3m sequences with conv70% in output/scfd_tcr/af2/af2_msa_input_conv70_1 ready to be predicted!\n",
      "Writing ad2 submission script to output/scfd_tcr/af2/run_af2_conv70_1.sh\n",
      "488 a3m sequences with conv70% in output/scfd_tcr/af2/af2_msa_input_conv70_2 ready to be predicted!\n"
     ]
    }
   ],
   "source": [
    "### Colabfold arguments\n",
    "array_limit=5\n",
    "colabfold_args=\"--num-recycle 12\"\n",
    "\n",
    "### prepare MSAs based on initial msa\n",
    "af2_folder=f\"output/{input}/af2\"\n",
    "af2_best_folder=f\"output/{input}/af2/best\"\n",
    "os.makedirs(af2_best_folder, exist_ok=True)\n",
    "\n",
    "### Prepare AF2 inputs\n",
    "for conv_frac, positions in fixed_positions_dict.items():\n",
    "    conv_perc=int(float(conv_frac)*100)\n",
    "    df = pd.read_csv(f\"output/{input}/mpnn_seqs_conv{conv_perc}.csv\")\n",
    "    af2_input_folder=f\"{af2_folder}/af2_msa_input_conv{conv_perc}\"\n",
    "    af2_output_folder=f\"{af2_folder}/af2_conv{conv_perc}\"\n",
    "\n",
    "    num_a3m = len(df)\n",
    "    # Create subdirectories if there are more than 1000 files\n",
    "    num_subdirs = (num_a3m - 1) // 1000 + 1\n",
    "    for i in range(num_subdirs):\n",
    "        subdir = f\"{af2_input_folder}_{i + 1}\"\n",
    "        os.makedirs(subdir, exist_ok=True)\n",
    "\n",
    "    for i, row in df.iterrows():\n",
    "        id = row[\"id\"]\n",
    "        seq = row[\"seq\"]\n",
    "        subdir = f\"{af2_input_folder}_{i // 1000 + 1}\"\n",
    "        new_a3m_file = f\"{subdir}/{id}.a3m\"\n",
    "        process_a3m_file_rf2(seq, msa_path, new_a3m_file)\n",
    "    \n",
    "    for i in range(num_subdirs):\n",
    "        subdir = f\"{af2_input_folder}_{i + 1}\"\n",
    "        subout = f\"{af2_output_folder}/{i + 1}\"\n",
    "        best_sub=f\"{af2_output_folder}/best_{i + 1}\"\n",
    "        os.makedirs(subout, exist_ok=True)\n",
    "        os.makedirs(best_sub, exist_ok=True)\n",
    "        a3ms = len(glob.glob(f\"{subdir}/*.a3m\"))\n",
    "\n",
    "        # prepare script\n",
    "        af2_txt = f'''#!/bin/bash\n",
    "#SBATCH --output=/dev/null\n",
    "#SBATCH --partition=gpu\n",
    "#SBATCH --gres=gpu:A40:1\n",
    "#SBATCH --ntasks=1\n",
    "#SBATCH --cpus-per-task=4\n",
    "#SBATCH --array=0-{a3ms-1}%{array_limit}\n",
    "\n",
    "# Activate the AlphaFold2 environment\n",
    ". /home/aljubetic/bin/set_up_AF2.3.sh\n",
    "\n",
    "msa_folder={subdir}\n",
    "input_files=($msa_folder/*.a3m)\n",
    "file=${{input_files[$SLURM_ARRAY_TASK_ID]}}\n",
    "basename=$(basename \"$file\" .a3m)\n",
    "\n",
    "outdir={subout}\n",
    "out_subdir=\"$outdir/$SLURM_ARRAY_TASK_ID\"\n",
    "best_dir={best_sub}\n",
    "additional_args=\"{colabfold_args}\"\n",
    "\n",
    "final_pdb=$best_dir/$basename.pdb\n",
    "final_json=$best_dir/$basename.json\n",
    "\n",
    "if [ ! -f \"$final_pdb\" ]; then\n",
    "    # Run AF2\n",
    "    cmd=\"/home/aljubetic/AF2/CF2.3/colabfold-conda/bin/python /home/aljubetic/AF2/CF2.3/colabfold-conda/bin/colabfold_batch $additional_args $file $out_subdir\"\n",
    "    echo $cmd\n",
    "    $cmd\n",
    "\n",
    "    # Copy best\n",
    "    cp $out_subdir/$basename*rank_001*.pdb $final_pdb\n",
    "    cp $out_subdir/$basename*rank_001*.json $final_json\n",
    "\n",
    "    # Remove other colabfold files\n",
    "    rm -r $out_subdir\n",
    "fi\n",
    "\n",
    "# Analyze\n",
    "python helper_scripts/analyze_pdbs.py \\\n",
    "{input_pdb} $final_pdb $final_json {af2_folder} --out_name af2_conv{conv_perc}\n",
    "'''\n",
    "        script=f\"{af2_folder}/run_af2_conv{conv_perc}_{i}.sh\"\n",
    "\n",
    "        with open(script,'w') as f:\n",
    "            f.write(af2_txt)\n",
    "            print(f\"Writing ad2 submission script to {script}\")\n",
    "\n",
    "        print(f\"{a3ms} a3m sequences with conv{conv_perc}% in {subdir} ready to be predicted!\")\n",
    "\n",
    "    \n"
   ]
  },
  {
   "cell_type": "code",
   "execution_count": 63,
   "metadata": {},
   "outputs": [
    {
     "name": "stdout",
     "output_type": "stream",
     "text": [
      "Submitted batch job 289387\n",
      "Submitted batch job 289388\n",
      "Submitted batch job 289389\n",
      "Submitted batch job 289390\n"
     ]
    }
   ],
   "source": [
    "### Run code\n",
    "for conv_frac, positions in fixed_positions_dict.items():\n",
    "    conv_perc=int(float(conv_frac)*100)\n",
    "    df = pd.read_csv(f\"output/{input}/mpnn_seqs_conv{conv_perc}.csv\")\n",
    "    num_a3m = len(df)\n",
    "    num_subdirs = (num_a3m - 1) // 1000 + 1\n",
    "    for i in range(num_subdirs):\n",
    "        script=f\"{af2_folder}/run_af2_conv{conv_perc}_{i}.sh\"\n",
    "        cmd=f\"sbatch {script}\"\n",
    "        subprocess.run(cmd, shell=True)"
   ]
  },
  {
   "cell_type": "code",
   "execution_count": 65,
   "metadata": {},
   "outputs": [
    {
     "name": "stdout",
     "output_type": "stream",
     "text": [
      "             JOBID PARTITION     NAME     USER ST       TIME  NODES NODELIST(REASON)\n",
      " 289387_[15-999%5]       gpu run_af2_  tsatler PD       0:00      1 (JobArrayTaskLimit)\n",
      " 289388_[15-487%5]       gpu run_af2_  tsatler PD       0:00      1 (JobArrayTaskLimit)\n",
      " 289389_[15-999%5]       gpu run_af2_  tsatler PD       0:00      1 (JobArrayTaskLimit)\n",
      " 289390_[15-487%5]       gpu run_af2_  tsatler PD       0:00      1 (JobArrayTaskLimit)\n",
      "         289387_11       gpu run_af2_  tsatler  R       1:46      1 compute-0-12\n",
      "         289387_12       gpu run_af2_  tsatler  R       1:46      1 compute-0-12\n",
      "         289387_13       gpu run_af2_  tsatler  R       1:46      1 compute-0-12\n",
      "         289387_14       gpu run_af2_  tsatler  R       1:46      1 compute-0-12\n",
      "         289387_10       gpu run_af2_  tsatler  R       1:49      1 compute-0-10\n",
      "         289388_10       gpu run_af2_  tsatler  R       1:54      1 compute-6-3\n",
      "         289388_11       gpu run_af2_  tsatler  R       1:54      1 compute-6-3\n",
      "         289388_12       gpu run_af2_  tsatler  R       1:54      1 compute-6-4\n",
      "         289388_13       gpu run_af2_  tsatler  R       1:54      1 compute-0-10\n",
      "         289388_14       gpu run_af2_  tsatler  R       1:54      1 compute-0-10\n",
      "         289389_10       gpu run_af2_  tsatler  R       1:54      1 compute-6-3\n",
      "         289389_11       gpu run_af2_  tsatler  R       1:54      1 compute-6-3\n",
      "         289389_12       gpu run_af2_  tsatler  R       1:54      1 compute-6-3\n",
      "         289389_13       gpu run_af2_  tsatler  R       1:54      1 compute-0-10\n",
      "         289389_14       gpu run_af2_  tsatler  R       1:54      1 compute-0-10\n",
      "         289390_11       gpu run_af2_  tsatler  R       1:54      1 compute-6-3\n",
      "         289390_12       gpu run_af2_  tsatler  R       1:54      1 compute-0-10\n",
      "         289390_13       gpu run_af2_  tsatler  R       1:54      1 compute-0-10\n",
      "         289390_14       gpu run_af2_  tsatler  R       1:54      1 compute-0-10\n",
      "         289390_10       gpu run_af2_  tsatler  R       1:55      1 compute-6-3\n"
     ]
    }
   ],
   "source": [
    "!squeue --me"
   ]
  },
  {
   "cell_type": "markdown",
   "metadata": {},
   "source": [
    "## Filter scores and analyze data"
   ]
  },
  {
   "cell_type": "code",
   "execution_count": 6,
   "metadata": {},
   "outputs": [],
   "source": [
    "# Define the path to the JSON file\n",
    "json_file_path = f'output/{input}/input_data.json'\n",
    "with open(json_file_path, 'r') as json_file:\n",
    "    loaded_data = json.load(json_file)\n",
    "\n",
    "# Assign the loaded data to the variables\n",
    "conserved_positions_dict = loaded_data['conserved_positions_dict']\n",
    "fixed_positions_dict = loaded_data['fixed_positions_dict']\n",
    "fix_positions = np.array(loaded_data['fix_positions'])\n",
    "input_sequence = loaded_data['input_sequence']\n",
    "msa_path = loaded_data['msa_path']\n"
   ]
  },
  {
   "cell_type": "code",
   "execution_count": 7,
   "metadata": {},
   "outputs": [
    {
     "data": {
      "image/png": "[encoded data removed]",
      "text/plain": [
       "<Figure size 720x216 with 3 Axes>"
      ]
     },
     "metadata": {},
     "output_type": "display_data"
    },
    {
     "data": {
      "image/png": "[encoded data removed]",
      "text/plain": [
       "<Figure size 720x216 with 3 Axes>"
      ]
     },
     "metadata": {},
     "output_type": "display_data"
    }
   ],
   "source": [
    "for conv_frac, positions in fixed_positions_dict.items():\n",
    "    conv_perc=int(float(conv_frac)*100)\n",
    "    mpnn_path=f\"output/{input}/mpnn_out/mpnn_seqs_conv{conv_perc}.csv\"\n",
    "    af2_path=f\"output/{input}/af2/af2_conv{conv_perc}.csv\"\n",
    "\n",
    "    # Open dataframes\n",
    "    mpnn_scores=pd.read_csv(mpnn_path)\n",
    "    af2_scores=pd.read_csv(af2_path)\n",
    "    af2_scores[\"id\"]=af2_scores[\"model_id\"]\n",
    "\n",
    "    # Merge and save dataframes\n",
    "    merged_df = pd.merge(af2_scores, mpnn_scores, on='id', how='inner')\n",
    "    merged_df = merged_df.sort_values(\"plddt\", ascending=False)\n",
    "    merged_df.to_csv(f\"output/{input}/af2_mpnn_{input}_conv{conv_perc}.csv\")\n",
    "\n",
    "    # Plot scores\n",
    "    create_and_save_plot(merged_df, f\"output/{input}/scores_{input}_conv{conv_perc}.png\")"
   ]
  },
  {
   "cell_type": "code",
   "execution_count": null,
   "metadata": {},
   "outputs": [],
   "source": []
  }
 ],
 "metadata": {
  "kernelspec": {
   "display_name": "pyro",
   "language": "python",
   "name": "python3"
  },
  "language_info": {
   "codemirror_mode": {
    "name": "ipython",
    "version": 3
   },
   "file_extension": ".py",
   "mimetype": "text/x-python",
   "name": "python",
   "nbconvert_exporter": "python",
   "pygments_lexer": "ipython3",
   "version": "3.9.7"
  }
 },
 "nbformat": 4,
 "nbformat_minor": 2
}
