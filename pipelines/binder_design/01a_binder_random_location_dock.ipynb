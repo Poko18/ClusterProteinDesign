{
 "cells": [
  {
   "cell_type": "code",
   "execution_count": 2,
   "metadata": {},
   "outputs": [],
   "source": [
    "import subprocess\n",
    "import glob"
   ]
  },
  {
   "cell_type": "code",
   "execution_count": 3,
   "metadata": {},
   "outputs": [
    {
     "name": "stdout",
     "output_type": "stream",
     "text": [
      "The following command will run 55 array jobs with command:\n",
      "sbatch --output=/dev/null --array=0-54%20 helper_scripts/predict_one_binder_random_loc.sh examples/neura_A_6u02.pdb A ../../scaffolds/random_scaff output/neura_A_6u02 20 10 5 6 0.15\n"
     ]
    }
   ],
   "source": [
    "target_pdb = \"examples/neura_A_6u02.pdb\"\n",
    "target_chain = \"A\"\n",
    "iterations = 20\n",
    "array_lim = 20\n",
    "\n",
    "scaf_dir = \"../../scaffolds/random_scaff\"\n",
    "scaf_num = len(glob.glob(f\"{scaf_dir}/*.pdb\"))\n",
    "out_dir = f\"output/{target_pdb.split('/')[-1].split('.')[0]}\"\n",
    "\n",
    "recycles = 6\n",
    "designs_per_iteration = 10\n",
    "\n",
    "proteinmpnn_per_input = 5  # must be divisible by mpnn_batch\n",
    "mpnn_batch = 5  # default 5\n",
    "\n",
    "sampling_temp = 0.15\n",
    "\n",
    "# --output=/dev/null\n",
    "command = f\"sbatch --output=/dev/null --array=0-{scaf_num-1}%{array_lim} helper_scripts/predict_one_binder_random_loc.sh {target_pdb} {target_chain} {scaf_dir} {out_dir} {iterations} {designs_per_iteration} {proteinmpnn_per_input} {recycles} {sampling_temp} {mpnn_batch}\"\n",
    "\n",
    "print(f\"The following command will run {scaf_num} array jobs with command:\")\n",
    "print(command)"
   ]
  },
  {
   "cell_type": "code",
   "execution_count": 4,
   "metadata": {},
   "outputs": [
    {
     "name": "stdout",
     "output_type": "stream",
     "text": [
      "Submitted batch job 176535\n"
     ]
    },
    {
     "data": {
      "text/plain": [
       "CompletedProcess(args='sbatch --output=/dev/null --array=0-54%20 helper_scripts/predict_one_binder_random_loc.sh examples/neura_A_6u02.pdb A ../../scaffolds/random_scaff output/neura_A_6u02 20 10 5 6 0.15', returncode=0)"
      ]
     },
     "execution_count": 4,
     "metadata": {},
     "output_type": "execute_result"
    }
   ],
   "source": [
    "subprocess.run(command, shell=True)"
   ]
  },
  {
   "cell_type": "code",
   "execution_count": 5,
   "metadata": {},
   "outputs": [
    {
     "name": "stdout",
     "output_type": "stream",
     "text": [
      "             JOBID PARTITION     NAME     USER ST       TIME  NODES NODELIST(REASON)\n",
      " 176535_[20-54%20]       gpu predict_  tsatler PD       0:00      1 (JobArrayTaskLimit)\n",
      "          176451_1       gpu predict_  tsatler  R    8:41:55      1 compute-0-11\n",
      "          176535_0       gpu predict_  tsatler  R       0:02      1 compute-0-11\n",
      "          176535_1       gpu predict_  tsatler  R       0:02      1 compute-0-11\n",
      "          176535_2       gpu predict_  tsatler  R       0:02      1 compute-0-11\n",
      "          176535_3       gpu predict_  tsatler  R       0:02      1 compute-0-11\n",
      "          176535_4       gpu predict_  tsatler  R       0:02      1 compute-0-11\n",
      "          176535_5       gpu predict_  tsatler  R       0:02      1 compute-0-12\n",
      "          176535_6       gpu predict_  tsatler  R       0:02      1 compute-0-12\n",
      "          176535_7       gpu predict_  tsatler  R       0:02      1 compute-0-12\n",
      "          176535_8       gpu predict_  tsatler  R       0:02      1 compute-0-12\n",
      "          176535_9       gpu predict_  tsatler  R       0:02      1 compute-0-12\n",
      "         176535_10       gpu predict_  tsatler  R       0:02      1 compute-0-12\n",
      "         176535_11       gpu predict_  tsatler  R       0:02      1 compute-0-12\n",
      "         176535_12       gpu predict_  tsatler  R       0:02      1 compute-0-12\n",
      "         176535_13       gpu predict_  tsatler  R       0:02      1 compute-6-2\n",
      "         176535_14       gpu predict_  tsatler  R       0:02      1 compute-6-2\n",
      "         176535_15       gpu predict_  tsatler  R       0:02      1 compute-6-2\n",
      "         176535_16       gpu predict_  tsatler  R       0:02      1 compute-6-2\n",
      "         176535_17       gpu predict_  tsatler  R       0:02      1 compute-6-2\n",
      "         176535_18       gpu predict_  tsatler  R       0:02      1 compute-6-2\n",
      "         176535_19       gpu predict_  tsatler  R       0:02      1 compute-6-2\n"
     ]
    }
   ],
   "source": [
    "!squeue --me"
   ]
  },
  {
   "cell_type": "code",
   "execution_count": null,
   "metadata": {},
   "outputs": [],
   "source": []
  }
 ],
 "metadata": {
  "kernelspec": {
   "display_name": "pyro",
   "language": "python",
   "name": "python3"
  },
  "language_info": {
   "codemirror_mode": {
    "name": "ipython",
    "version": 3
   },
   "file_extension": ".py",
   "mimetype": "text/x-python",
   "name": "python",
   "nbconvert_exporter": "python",
   "pygments_lexer": "ipython3",
   "version": "3.9.7"
  },
  "orig_nbformat": 4
 },
 "nbformat": 4,
 "nbformat_minor": 2
}
