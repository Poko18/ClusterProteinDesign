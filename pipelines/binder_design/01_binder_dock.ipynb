{
 "cells": [
  {
   "cell_type": "code",
   "execution_count": 1,
   "metadata": {},
   "outputs": [],
   "source": [
    "import os"
   ]
  },
  {
   "attachments": {},
   "cell_type": "markdown",
   "metadata": {},
   "source": [
    "## Input parameters\n",
    "- Specify scaffold inputs for RFdiffusion (with/without backbone threading), target pdb and hotspots to target\n",
    "- Define number of RFdiffusion docking we want to perform and number of ProteinMPNN sequences to sample per diffusion - total designs = RFdockings * mpnn_per_design\n",
    "- Other parameters"
   ]
  },
  {
   "cell_type": "code",
   "execution_count": 13,
   "metadata": {},
   "outputs": [
    {
     "name": "stdout",
     "output_type": "stream",
     "text": [
      "This will generate 1000 designs per array job!\n"
     ]
    }
   ],
   "source": [
    "array_number=14 # If sequence scaffolds, then it should product of number 7\n",
    "array_limit=21\n",
    "\n",
    "scaffold_dir=\"../../scaffolds/sequence_scaffolds/\" #if it contains multiple subdirectories, it gets threaded...\n",
    "separate_scaffold_folders=True\n",
    "thread_binders=True #if True, poly-GLY binders will be threaded and relaxed before ProteinMPNN\n",
    "\n",
    "prefix=\"tlr4-ago1\"\n",
    "target_pdb=\"examples/TLR4-short.pdb\"\n",
    "#output=\"output/$prefix\" # output gets created by rfdiffusion\n",
    "hotspots='ppi.hotspot_res=[A324,A325,A327,A329,A344,A347,A349,A351]'\n",
    "\n",
    "num_of_diffusions=10 # Number of RF diffusions per script\n",
    "total_mpnn=100 # Total mpnn sequences for per design\n",
    "mpnn_per_design=100 # Filtered mpnn sequences for AF2\n",
    "\n",
    "# Other parameters\n",
    "num_recycles=9 # AF2 recycles\n",
    "sampling_temp=0.15 # ProteinMPNN sampling temperature\n",
    "print(f\"This will generate {num_of_diffusions*mpnn_per_design} designs per array job!\")"
   ]
  },
  {
   "cell_type": "code",
   "execution_count": 14,
   "metadata": {},
   "outputs": [
    {
     "name": "stdout",
     "output_type": "stream",
     "text": [
      "Script will run 7 array scripts for each scaffold with 2 jobs (1000 designs each) with total of 2000.0 sampled designes per scaffold\n"
     ]
    }
   ],
   "source": [
    "def get_subdirectories(folder_path):\n",
    "    subdirectories = []\n",
    "    for entry in os.scandir(folder_path):\n",
    "        if entry.is_dir():\n",
    "            subdirectories.append(entry.path)\n",
    "    return subdirectories\n",
    "\n",
    "if separate_scaffold_folders:\n",
    "    scaffold_list=get_subdirectories(scaffold_dir)\n",
    "    scaffolds=len(scaffold_list)\n",
    "    print(f\"Script will run {scaffolds} array scripts for each scaffold with {array_number//scaffolds} jobs ({num_of_diffusions*mpnn_per_design} designs each) with total of {(array_number/scaffolds)*(num_of_diffusions*mpnn_per_design)} sampled designes per scaffold\")"
   ]
  },
  {
   "cell_type": "code",
   "execution_count": 15,
   "metadata": {},
   "outputs": [
    {
     "data": {
      "text/plain": [
       "['../../scaffolds/sequence_scaffolds/2H4E_19',\n",
       " '../../scaffolds/sequence_scaffolds/3H_3',\n",
       " '../../scaffolds/sequence_scaffolds/3H_12',\n",
       " '../../scaffolds/sequence_scaffolds/3H_8',\n",
       " '../../scaffolds/sequence_scaffolds/3H_6',\n",
       " '../../scaffolds/sequence_scaffolds/4H_9',\n",
       " '../../scaffolds/sequence_scaffolds/lcb3']"
      ]
     },
     "execution_count": 15,
     "metadata": {},
     "output_type": "execute_result"
    }
   ],
   "source": [
    "scaffold_list"
   ]
  },
  {
   "attachments": {},
   "cell_type": "markdown",
   "metadata": {},
   "source": [
    "## Runs slurm array script"
   ]
  },
  {
   "cell_type": "code",
   "execution_count": 16,
   "metadata": {},
   "outputs": [
    {
     "name": "stdout",
     "output_type": "stream",
     "text": [
      "Submitted batch job 144642\n",
      "Submitted batch job 144644\n",
      "Submitted batch job 144645\n",
      "Submitted batch job 144646\n",
      "Submitted batch job 144647\n",
      "Submitted batch job 144648\n",
      "Submitted batch job 144649\n"
     ]
    }
   ],
   "source": [
    "import subprocess\n",
    "\n",
    "if separate_scaffold_folders:\n",
    "    array_number=array_number//scaffolds\n",
    "    array_limit=array_limit//scaffolds\n",
    "\n",
    "    for i in range(scaffolds):\n",
    "        # Setup arguments\n",
    "        scaffold_dir=scaffold_list[i]\n",
    "        script_arguments=f\"{num_of_diffusions} {total_mpnn} {mpnn_per_design} {num_recycles} {sampling_temp} {scaffold_dir} {prefix} {target_pdb} {hotspots}\"\n",
    "        bash_arguments=f\"--array=1-{array_number}%{array_limit}\"\n",
    "        \n",
    "        command = f\"sbatch {bash_arguments} helper_scripts/binder_dock.sh {script_arguments}\"\n",
    "\n",
    "        # Run the array bash script\n",
    "        subprocess.run(command, shell=True)\n",
    "\n",
    "else:\n",
    "    script_arguments=f\"{num_of_diffusions} {total_mpnn} {mpnn_per_design} {num_recycles} {sampling_temp} {scaffold_dir} {prefix} {target_pdb} {hotspots}\"\n",
    "    bash_arguments=f\"--array=1-{array_number}%{array_limit}\"\n",
    "        \n",
    "    command = f\"sbatch {bash_arguments} helper_scripts/binder_dock.sh {script_arguments}\"\n",
    "\n",
    "    # Run the array bash script\n",
    "    subprocess.run(command, shell=True)\n",
    "\n",
    "\n",
    "\n",
    "\n",
    "#print(f\"command: {command}\")"
   ]
  },
  {
   "cell_type": "code",
   "execution_count": 19,
   "metadata": {},
   "outputs": [
    {
     "name": "stdout",
     "output_type": "stream",
     "text": [
      "             JOBID PARTITION     NAME     USER ST       TIME  NODES NODELIST(REASON)\n",
      "          144642_1       gpu binder_d  tsatler  R       0:05      1 compute-0-11\n",
      "          144642_2       gpu binder_d  tsatler  R       0:05      1 compute-0-11\n",
      "          144644_1       gpu binder_d  tsatler  R       0:03      1 compute-0-11\n",
      "          144644_2       gpu binder_d  tsatler  R       0:03      1 compute-0-11\n",
      "          144645_1       gpu binder_d  tsatler  R       0:03      1 compute-0-11\n",
      "          144645_2       gpu binder_d  tsatler  R       0:03      1 compute-0-11\n",
      "          144646_1       gpu binder_d  tsatler  R       0:03      1 compute-0-11\n",
      "          144646_2       gpu binder_d  tsatler  R       0:03      1 compute-0-12\n",
      "          144647_1       gpu binder_d  tsatler  R       0:03      1 compute-0-12\n",
      "          144647_2       gpu binder_d  tsatler  R       0:03      1 compute-0-12\n",
      "          144648_1       gpu binder_d  tsatler  R       0:03      1 compute-0-12\n",
      "          144648_2       gpu binder_d  tsatler  R       0:03      1 compute-0-12\n",
      "          144649_1       gpu binder_d  tsatler  R       0:03      1 compute-0-12\n",
      "          144649_2       gpu binder_d  tsatler  R       0:03      1 compute-0-12\n"
     ]
    }
   ],
   "source": [
    "!squeue --me"
   ]
  },
  {
   "cell_type": "code",
   "execution_count": null,
   "metadata": {},
   "outputs": [],
   "source": []
  }
 ],
 "metadata": {
  "kernelspec": {
   "display_name": "pyro",
   "language": "python",
   "name": "python3"
  },
  "language_info": {
   "codemirror_mode": {
    "name": "ipython",
    "version": 3
   },
   "file_extension": ".py",
   "mimetype": "text/x-python",
   "name": "python",
   "nbconvert_exporter": "python",
   "pygments_lexer": "ipython3",
   "version": "3.9.7"
  },
  "orig_nbformat": 4
 },
 "nbformat": 4,
 "nbformat_minor": 2
}
