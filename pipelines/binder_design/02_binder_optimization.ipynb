{
 "cells": [
  {
   "cell_type": "code",
   "execution_count": 2,
   "metadata": {},
   "outputs": [],
   "source": [
    "import os\n",
    "import glob\n",
    "import subprocess\n",
    "import pandas as pd"
   ]
  },
  {
   "attachments": {},
   "cell_type": "markdown",
   "metadata": {},
   "source": [
    "# Filter sequences"
   ]
  },
  {
   "cell_type": "code",
   "execution_count": 3,
   "metadata": {},
   "outputs": [
    {
     "data": {
      "text/html": [
       "<div>\n",
       "<style scoped>\n",
       "    .dataframe tbody tr th:only-of-type {\n",
       "        vertical-align: middle;\n",
       "    }\n",
       "\n",
       "    .dataframe tbody tr th {\n",
       "        vertical-align: top;\n",
       "    }\n",
       "\n",
       "    .dataframe thead th {\n",
       "        text-align: right;\n",
       "    }\n",
       "</style>\n",
       "<table border=\"1\" class=\"dataframe\">\n",
       "  <thead>\n",
       "    <tr style=\"text-align: right;\">\n",
       "      <th></th>\n",
       "      <th>mpnn</th>\n",
       "      <th>plddt</th>\n",
       "      <th>i_ptm</th>\n",
       "      <th>i_pae</th>\n",
       "      <th>rmsd</th>\n",
       "      <th>seq</th>\n",
       "      <th>model_path</th>\n",
       "      <th>binder-rmsd</th>\n",
       "      <th>input_pdb</th>\n",
       "    </tr>\n",
       "  </thead>\n",
       "  <tbody>\n",
       "    <tr>\n",
       "      <th>0</th>\n",
       "      <td>1.213537</td>\n",
       "      <td>0.775261</td>\n",
       "      <td>0.691565</td>\n",
       "      <td>11.134387</td>\n",
       "      <td>1.760293</td>\n",
       "      <td>RLHKLTLRNNFDSLNVMKTCIQGLAGLEVHRLVLGEFRNEGNLEKF...</td>\n",
       "      <td>output/tlr4-ago1/mpnn_af2/tlr4-ago1_4H_9_1/af2...</td>\n",
       "      <td>4.963032</td>\n",
       "      <td>output/tlr4-ago1/rf_dock/tlr4-ago1_4H_9_1/thre...</td>\n",
       "    </tr>\n",
       "    <tr>\n",
       "      <th>1</th>\n",
       "      <td>1.160942</td>\n",
       "      <td>0.766465</td>\n",
       "      <td>0.602153</td>\n",
       "      <td>13.715751</td>\n",
       "      <td>2.000111</td>\n",
       "      <td>RLHKLTLRNNFDSLNVMKTCIQGLAGLEVHRLVLGEFRNEGNLEKF...</td>\n",
       "      <td>output/tlr4-ago1/mpnn_af2/tlr4-ago1_4H_9_1/af2...</td>\n",
       "      <td>4.809887</td>\n",
       "      <td>output/tlr4-ago1/rf_dock/tlr4-ago1_4H_9_1/thre...</td>\n",
       "    </tr>\n",
       "    <tr>\n",
       "      <th>2</th>\n",
       "      <td>1.300598</td>\n",
       "      <td>0.689482</td>\n",
       "      <td>0.670574</td>\n",
       "      <td>12.757600</td>\n",
       "      <td>2.933392</td>\n",
       "      <td>RLHKLTLRNNFDSLNVMKTCIQGLAGLEVHRLVLGEFRNEGNLEKF...</td>\n",
       "      <td>output/tlr4-ago1/mpnn_af2/tlr4-ago1_lcb3_1/af2...</td>\n",
       "      <td>3.063305</td>\n",
       "      <td>output/tlr4-ago1/rf_dock/tlr4-ago1_lcb3_1/thre...</td>\n",
       "    </tr>\n",
       "    <tr>\n",
       "      <th>3</th>\n",
       "      <td>1.140846</td>\n",
       "      <td>0.817809</td>\n",
       "      <td>0.763596</td>\n",
       "      <td>9.682425</td>\n",
       "      <td>2.175548</td>\n",
       "      <td>RLHKLTLRNNFDSLNVMKTCIQGLAGLEVHRLVLGEFRNEGNLEKF...</td>\n",
       "      <td>output/tlr4-ago1/mpnn_af2/tlr4-ago1_3H_3_1/af2...</td>\n",
       "      <td>7.905189</td>\n",
       "      <td>output/tlr4-ago1/rf_dock/tlr4-ago1_3H_3_1/thre...</td>\n",
       "    </tr>\n",
       "    <tr>\n",
       "      <th>4</th>\n",
       "      <td>1.097666</td>\n",
       "      <td>0.811251</td>\n",
       "      <td>0.718439</td>\n",
       "      <td>11.075122</td>\n",
       "      <td>1.965440</td>\n",
       "      <td>RLHKLTLRNNFDSLNVMKTCIQGLAGLEVHRLVLGEFRNEGNLEKF...</td>\n",
       "      <td>output/tlr4-ago1/mpnn_af2/tlr4-ago1_3H_3_1/af2...</td>\n",
       "      <td>8.154563</td>\n",
       "      <td>output/tlr4-ago1/rf_dock/tlr4-ago1_3H_3_1/thre...</td>\n",
       "    </tr>\n",
       "    <tr>\n",
       "      <th>5</th>\n",
       "      <td>1.060904</td>\n",
       "      <td>0.862328</td>\n",
       "      <td>0.787758</td>\n",
       "      <td>8.596767</td>\n",
       "      <td>2.863401</td>\n",
       "      <td>RLHKLTLRNNFDSLNVMKTCIQGLAGLEVHRLVLGEFRNEGNLEKF...</td>\n",
       "      <td>output/tlr4-ago1/mpnn_af2/tlr4-ago1_3H_3_1/af2...</td>\n",
       "      <td>8.001517</td>\n",
       "      <td>output/tlr4-ago1/rf_dock/tlr4-ago1_3H_3_1/thre...</td>\n",
       "    </tr>\n",
       "    <tr>\n",
       "      <th>6</th>\n",
       "      <td>1.167340</td>\n",
       "      <td>0.830703</td>\n",
       "      <td>0.562138</td>\n",
       "      <td>14.819692</td>\n",
       "      <td>2.920332</td>\n",
       "      <td>RLHKLTLRNNFDSLNVMKTCIQGLAGLEVHRLVLGEFRNEGNLEKF...</td>\n",
       "      <td>output/tlr4-ago1/mpnn_af2/tlr4-ago1_3H_3_1/af2...</td>\n",
       "      <td>7.801794</td>\n",
       "      <td>output/tlr4-ago1/rf_dock/tlr4-ago1_3H_3_1/thre...</td>\n",
       "    </tr>\n",
       "    <tr>\n",
       "      <th>7</th>\n",
       "      <td>1.111934</td>\n",
       "      <td>0.835997</td>\n",
       "      <td>0.597583</td>\n",
       "      <td>13.953725</td>\n",
       "      <td>2.636881</td>\n",
       "      <td>RLHKLTLRNNFDSLNVMKTCIQGLAGLEVHRLVLGEFRNEGNLEKF...</td>\n",
       "      <td>output/tlr4-ago1/mpnn_af2/tlr4-ago1_3H_3_1/af2...</td>\n",
       "      <td>7.792325</td>\n",
       "      <td>output/tlr4-ago1/rf_dock/tlr4-ago1_3H_3_1/thre...</td>\n",
       "    </tr>\n",
       "  </tbody>\n",
       "</table>\n",
       "</div>"
      ],
      "text/plain": [
       "       mpnn     plddt     i_ptm      i_pae      rmsd  \\\n",
       "0  1.213537  0.775261  0.691565  11.134387  1.760293   \n",
       "1  1.160942  0.766465  0.602153  13.715751  2.000111   \n",
       "2  1.300598  0.689482  0.670574  12.757600  2.933392   \n",
       "3  1.140846  0.817809  0.763596   9.682425  2.175548   \n",
       "4  1.097666  0.811251  0.718439  11.075122  1.965440   \n",
       "5  1.060904  0.862328  0.787758   8.596767  2.863401   \n",
       "6  1.167340  0.830703  0.562138  14.819692  2.920332   \n",
       "7  1.111934  0.835997  0.597583  13.953725  2.636881   \n",
       "\n",
       "                                                 seq  \\\n",
       "0  RLHKLTLRNNFDSLNVMKTCIQGLAGLEVHRLVLGEFRNEGNLEKF...   \n",
       "1  RLHKLTLRNNFDSLNVMKTCIQGLAGLEVHRLVLGEFRNEGNLEKF...   \n",
       "2  RLHKLTLRNNFDSLNVMKTCIQGLAGLEVHRLVLGEFRNEGNLEKF...   \n",
       "3  RLHKLTLRNNFDSLNVMKTCIQGLAGLEVHRLVLGEFRNEGNLEKF...   \n",
       "4  RLHKLTLRNNFDSLNVMKTCIQGLAGLEVHRLVLGEFRNEGNLEKF...   \n",
       "5  RLHKLTLRNNFDSLNVMKTCIQGLAGLEVHRLVLGEFRNEGNLEKF...   \n",
       "6  RLHKLTLRNNFDSLNVMKTCIQGLAGLEVHRLVLGEFRNEGNLEKF...   \n",
       "7  RLHKLTLRNNFDSLNVMKTCIQGLAGLEVHRLVLGEFRNEGNLEKF...   \n",
       "\n",
       "                                          model_path  binder-rmsd  \\\n",
       "0  output/tlr4-ago1/mpnn_af2/tlr4-ago1_4H_9_1/af2...     4.963032   \n",
       "1  output/tlr4-ago1/mpnn_af2/tlr4-ago1_4H_9_1/af2...     4.809887   \n",
       "2  output/tlr4-ago1/mpnn_af2/tlr4-ago1_lcb3_1/af2...     3.063305   \n",
       "3  output/tlr4-ago1/mpnn_af2/tlr4-ago1_3H_3_1/af2...     7.905189   \n",
       "4  output/tlr4-ago1/mpnn_af2/tlr4-ago1_3H_3_1/af2...     8.154563   \n",
       "5  output/tlr4-ago1/mpnn_af2/tlr4-ago1_3H_3_1/af2...     8.001517   \n",
       "6  output/tlr4-ago1/mpnn_af2/tlr4-ago1_3H_3_1/af2...     7.801794   \n",
       "7  output/tlr4-ago1/mpnn_af2/tlr4-ago1_3H_3_1/af2...     7.792325   \n",
       "\n",
       "                                           input_pdb  \n",
       "0  output/tlr4-ago1/rf_dock/tlr4-ago1_4H_9_1/thre...  \n",
       "1  output/tlr4-ago1/rf_dock/tlr4-ago1_4H_9_1/thre...  \n",
       "2  output/tlr4-ago1/rf_dock/tlr4-ago1_lcb3_1/thre...  \n",
       "3  output/tlr4-ago1/rf_dock/tlr4-ago1_3H_3_1/thre...  \n",
       "4  output/tlr4-ago1/rf_dock/tlr4-ago1_3H_3_1/thre...  \n",
       "5  output/tlr4-ago1/rf_dock/tlr4-ago1_3H_3_1/thre...  \n",
       "6  output/tlr4-ago1/rf_dock/tlr4-ago1_3H_3_1/thre...  \n",
       "7  output/tlr4-ago1/rf_dock/tlr4-ago1_3H_3_1/thre...  "
      ]
     },
     "execution_count": 3,
     "metadata": {},
     "output_type": "execute_result"
    }
   ],
   "source": [
    "input=\"tlr4-ago1\"\n",
    "best_binders=pd.read_csv(f\"output/{input}/af2_best.csv\")\n",
    "all_binders=pd.read_csv(f\"output/{input}/af2_results.csv\")\n",
    "best_binders"
   ]
  },
  {
   "cell_type": "code",
   "execution_count": 4,
   "metadata": {},
   "outputs": [
    {
     "data": {
      "text/html": [
       "<div>\n",
       "<style scoped>\n",
       "    .dataframe tbody tr th:only-of-type {\n",
       "        vertical-align: middle;\n",
       "    }\n",
       "\n",
       "    .dataframe tbody tr th {\n",
       "        vertical-align: top;\n",
       "    }\n",
       "\n",
       "    .dataframe thead th {\n",
       "        text-align: right;\n",
       "    }\n",
       "</style>\n",
       "<table border=\"1\" class=\"dataframe\">\n",
       "  <thead>\n",
       "    <tr style=\"text-align: right;\">\n",
       "      <th></th>\n",
       "      <th>mpnn</th>\n",
       "      <th>plddt</th>\n",
       "      <th>i_ptm</th>\n",
       "      <th>i_pae</th>\n",
       "      <th>rmsd</th>\n",
       "      <th>seq</th>\n",
       "      <th>model_path</th>\n",
       "      <th>binder-rmsd</th>\n",
       "      <th>input_pdb</th>\n",
       "    </tr>\n",
       "  </thead>\n",
       "  <tbody>\n",
       "    <tr>\n",
       "      <th>2</th>\n",
       "      <td>1.300598</td>\n",
       "      <td>0.689482</td>\n",
       "      <td>0.670574</td>\n",
       "      <td>12.7576</td>\n",
       "      <td>2.933392</td>\n",
       "      <td>RLHKLTLRNNFDSLNVMKTCIQGLAGLEVHRLVLGEFRNEGNLEKF...</td>\n",
       "      <td>output/tlr4-ago1/mpnn_af2/tlr4-ago1_lcb3_1/af2...</td>\n",
       "      <td>3.063305</td>\n",
       "      <td>output/tlr4-ago1/rf_dock/tlr4-ago1_lcb3_1/thre...</td>\n",
       "    </tr>\n",
       "  </tbody>\n",
       "</table>\n",
       "</div>"
      ],
      "text/plain": [
       "       mpnn     plddt     i_ptm    i_pae      rmsd  \\\n",
       "2  1.300598  0.689482  0.670574  12.7576  2.933392   \n",
       "\n",
       "                                                 seq  \\\n",
       "2  RLHKLTLRNNFDSLNVMKTCIQGLAGLEVHRLVLGEFRNEGNLEKF...   \n",
       "\n",
       "                                          model_path  binder-rmsd  \\\n",
       "2  output/tlr4-ago1/mpnn_af2/tlr4-ago1_lcb3_1/af2...     3.063305   \n",
       "\n",
       "                                           input_pdb  \n",
       "2  output/tlr4-ago1/rf_dock/tlr4-ago1_lcb3_1/thre...  "
      ]
     },
     "execution_count": 4,
     "metadata": {},
     "output_type": "execute_result"
    }
   ],
   "source": [
    "filtered = best_binders[(best_binders[\"rmsd\"]<3)&(best_binders[\"binder-rmsd\"]<4)]\n",
    "#[(best_binders[\"plddt\"]>0.7)&(best_binders[\"i_pae\"]<8)&(best_binders[\"rmsd\"]<3)]\n",
    "\n",
    "filtered = filtered.sort_values(by='plddt', ascending=False)\n",
    "filtered"
   ]
  },
  {
   "attachments": {},
   "cell_type": "markdown",
   "metadata": {},
   "source": [
    "# Prepare folder of best binders"
   ]
  },
  {
   "cell_type": "code",
   "execution_count": 5,
   "metadata": {},
   "outputs": [
    {
     "name": "stdout",
     "output_type": "stream",
     "text": [
      "Number of binders to optimize: 1. Will run 1 arrays\n"
     ]
    }
   ],
   "source": [
    "# Create output dir\n",
    "binder_folder=\"input\"\n",
    "output_dir=f\"output/{input}/opt_binders\"\n",
    "binders_input=f\"{output_dir}/{binder_folder}\"\n",
    "os.makedirs(f\"{binders_input}\", exist_ok=True)\n",
    "\n",
    "# Copy binder inputs to new dir\n",
    "pdbs=filtered[\"model_path\"].to_list()\n",
    "for pdb in pdbs:\n",
    "    !cp $pdb $binders_input\n",
    "\n",
    "# Count .pdb files in the folder\n",
    "pdb_files = glob.glob(os.path.join(binders_input, \"*.pdb\"))\n",
    "pdb_count = len(pdb_files)\n",
    "print(f\"Number of binders to optimize: {pdb_count}. Will run {pdb_count} arrays\")"
   ]
  },
  {
   "attachments": {},
   "cell_type": "markdown",
   "metadata": {},
   "source": [
    "# Run optimization for each binder in parallel"
   ]
  },
  {
   "cell_type": "code",
   "execution_count": 7,
   "metadata": {},
   "outputs": [
    {
     "name": "stdout",
     "output_type": "stream",
     "text": [
      "command will run 1 binder optimizations, each doing\n",
      "20 iterations with 100 sampled designs.\n",
      "Each script will return 2000 designs (2000 in total)\n",
      "sbatch --array=1-1%10 helper_scripts/binder_opt.sh output/tlr4-ago1/opt_binders/input output/tlr4-ago1/opt_binders 20 200 10 10 i_pae 12 0.15\n"
     ]
    }
   ],
   "source": [
    "\n",
    "# Binder optimization parameters\n",
    "iterations=20\n",
    "starting_mpnns=200\n",
    "\n",
    "designs_per_iteration=10\n",
    "mpnn_per_design=10\n",
    "sort=\"i_pae\"\n",
    "\n",
    "af2_recycles=12\n",
    "mpnn_sampling_temp=0.15\n",
    "\n",
    "array_number=pdb_count\n",
    "array_limit=10\n",
    "\n",
    "# Script arguments\n",
    "bash_arguments=f\"--array=0-{array_number-1}%{array_limit}\"\n",
    "script_arguments=f\"{binders_input} {output_dir} {iterations} {starting_mpnns} {designs_per_iteration} {mpnn_per_design} {sort} {af2_recycles} {mpnn_sampling_temp}\"\n",
    "\n",
    "command = f\"sbatch {bash_arguments} helper_scripts/binder_opt.sh {script_arguments}\"\n",
    "\n",
    "print(f\"command will run {array_number} binder optimizations, each doing\")\n",
    "print(f\"{iterations} iterations with {designs_per_iteration*mpnn_per_design} sampled designs.\")\n",
    "print(f\"Each script will return {iterations*designs_per_iteration*mpnn_per_design} designs ({iterations*designs_per_iteration*mpnn_per_design*array_number} in total)\")\n",
    "print(command)"
   ]
  },
  {
   "cell_type": "code",
   "execution_count": 13,
   "metadata": {},
   "outputs": [
    {
     "name": "stdout",
     "output_type": "stream",
     "text": [
      "Submitted batch job 144921\n"
     ]
    },
    {
     "data": {
      "text/plain": [
       "CompletedProcess(args='sbatch --array=1-1%10 helper_scripts/binder_opt.sh output/tlr4-ago1/opt_binders/input output/tlr4-ago1/opt_binders 20 200 10 10 i_pae 12 0.15', returncode=0)"
      ]
     },
     "execution_count": 13,
     "metadata": {},
     "output_type": "execute_result"
    }
   ],
   "source": [
    "# Run the array bash script\n",
    "subprocess.run(command, shell=True)"
   ]
  },
  {
   "cell_type": "code",
   "execution_count": 12,
   "metadata": {},
   "outputs": [
    {
     "name": "stdout",
     "output_type": "stream",
     "text": [
      "             JOBID PARTITION     NAME     USER ST       TIME  NODES NODELIST(REASON)\n",
      "    144761_[2-5%1]       gpu binder_d  tsatler PD       0:00      1 (JobArrayTaskLimit)\n",
      "    144762_[2-5%1]       gpu binder_d  tsatler PD       0:00      1 (JobArrayTaskLimit)\n",
      "    144763_[2-5%1]       gpu binder_d  tsatler PD       0:00      1 (JobArrayTaskLimit)\n",
      "    144764_[2-5%1]       gpu binder_d  tsatler PD       0:00      1 (JobArrayTaskLimit)\n",
      "    144765_[2-5%1]       gpu binder_d  tsatler PD       0:00      1 (JobArrayTaskLimit)\n",
      "    144766_[2-5%1]       gpu binder_d  tsatler PD       0:00      1 (JobArrayTaskLimit)\n",
      "    144767_[2-5%1]       gpu binder_d  tsatler PD       0:00      1 (JobArrayTaskLimit)\n",
      "    144775_[2-5%1]       gpu tlr4-ant  tsatler PD       0:00      1 (JobArrayTaskLimit)\n",
      "    144776_[2-5%1]       gpu tlr4-ant  tsatler PD       0:00      1 (JobArrayTaskLimit)\n",
      "    144777_[2-5%1]       gpu tlr4-ant  tsatler PD       0:00      1 (JobArrayTaskLimit)\n",
      "    144778_[2-5%1]       gpu tlr4-ant  tsatler PD       0:00      1 (JobArrayTaskLimit)\n",
      "    144779_[2-5%1]       gpu tlr4-ant  tsatler PD       0:00      1 (JobArrayTaskLimit)\n",
      "    144780_[2-5%1]       gpu tlr4-ant  tsatler PD       0:00      1 (JobArrayTaskLimit)\n",
      "    144781_[2-5%1]       gpu tlr4-ant  tsatler PD       0:00      1 (JobArrayTaskLimit)\n",
      "    144789_[2-5%1]       gpu tlr4-ant  tsatler PD       0:00      1 (JobArrayTaskLimit)\n",
      "    144790_[2-5%1]       gpu tlr4-ant  tsatler PD       0:00      1 (JobArrayTaskLimit)\n",
      "    144793_[2-5%1]       gpu tlr4-ant  tsatler PD       0:00      1 (JobArrayTaskLimit)\n",
      "    144794_[2-5%1]       gpu tlr4-ant  tsatler PD       0:00      1 (JobArrayTaskLimit)\n",
      "    144795_[2-5%1]       gpu tlr4-ant  tsatler PD       0:00      1 (JobArrayTaskLimit)\n",
      "    144796_[2-5%1]       gpu tlr4-ant  tsatler PD       0:00      1 (JobArrayTaskLimit)\n",
      "    144797_[2-5%1]       gpu tlr4-ant  tsatler PD       0:00      1 (JobArrayTaskLimit)\n",
      "     144920_[1%10]       gpu binder_o  tsatler PD       0:00      1 (None)\n",
      "          144758_1       gpu 0_loop_t  tsatler  R 1-08:08:55      1 compute-0-11\n",
      "          144761_1       gpu binder_d  tsatler  R 1-08:06:40      1 compute-0-11\n",
      "          144762_1       gpu binder_d  tsatler  R 1-08:06:40      1 compute-0-11\n",
      "          144763_1       gpu binder_d  tsatler  R 1-08:06:40      1 compute-0-11\n",
      "          144764_1       gpu binder_d  tsatler  R 1-08:06:40      1 compute-0-12\n",
      "          144765_1       gpu binder_d  tsatler  R 1-08:06:40      1 compute-0-12\n",
      "          144766_1       gpu binder_d  tsatler  R 1-08:06:40      1 compute-0-12\n",
      "          144767_1       gpu binder_d  tsatler  R 1-08:06:40      1 compute-0-12\n",
      "          144775_1       gpu tlr4-ant  tsatler  R 1-07:57:25      1 compute-0-12\n",
      "          144776_1       gpu tlr4-ant  tsatler  R 1-07:57:25      1 compute-0-12\n",
      "          144777_1       gpu tlr4-ant  tsatler  R 1-07:57:25      1 compute-0-12\n",
      "          144778_1       gpu tlr4-ant  tsatler  R 1-07:57:25      1 compute-0-12\n",
      "          144779_1       gpu tlr4-ant  tsatler  R 1-07:57:25      1 compute-6-4\n",
      "          144780_1       gpu tlr4-ant  tsatler  R 1-07:57:25      1 compute-6-4\n",
      "          144781_1       gpu tlr4-ant  tsatler  R 1-07:57:25      1 compute-6-4\n",
      "          144789_1       gpu tlr4-ant  tsatler  R 1-07:56:34      1 compute-6-4\n",
      "          144790_1       gpu tlr4-ant  tsatler  R 1-07:56:34      1 compute-6-4\n",
      "          144793_1       gpu tlr4-ant  tsatler  R 1-07:56:31      1 compute-6-4\n",
      "          144794_1       gpu tlr4-ant  tsatler  R 1-07:56:31      1 compute-6-1\n",
      "          144795_1       gpu tlr4-ant  tsatler  R 1-07:56:31      1 compute-6-1\n",
      "          144796_1       gpu tlr4-ant  tsatler  R 1-07:56:31      1 compute-6-1\n",
      "          144797_1       gpu tlr4-ant  tsatler  R 1-07:56:31      1 compute-6-1\n"
     ]
    }
   ],
   "source": [
    "!squeue --me"
   ]
  },
  {
   "cell_type": "code",
   "execution_count": null,
   "metadata": {},
   "outputs": [],
   "source": []
  }
 ],
 "metadata": {
  "kernelspec": {
   "display_name": "pyro",
   "language": "python",
   "name": "python3"
  },
  "language_info": {
   "codemirror_mode": {
    "name": "ipython",
    "version": 3
   },
   "file_extension": ".py",
   "mimetype": "text/x-python",
   "name": "python",
   "nbconvert_exporter": "python",
   "pygments_lexer": "ipython3",
   "version": "3.9.7"
  },
  "orig_nbformat": 4
 },
 "nbformat": 4,
 "nbformat_minor": 2
}
