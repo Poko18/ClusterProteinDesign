{
 "cells": [
  {
   "cell_type": "code",
   "execution_count": 1,
   "metadata": {},
   "outputs": [],
   "source": [
    "import os, sys\n",
    "import pandas as pd\n",
    "import shutil\n",
    "import subprocess\n",
    "import numpy as np\n",
    "import json\n",
    "import glob"
   ]
  },
  {
   "cell_type": "markdown",
   "metadata": {},
   "source": [
    "## Notebook for multiple chains"
   ]
  },
  {
   "cell_type": "markdown",
   "metadata": {},
   "source": [
    "## Inputs"
   ]
  },
  {
   "cell_type": "code",
   "execution_count": 2,
   "metadata": {},
   "outputs": [],
   "source": [
    "# only chains for MSA\n",
    "input=\"full_scgd_tcr\"\n",
    "input_pdb=\"/home/tsatler/RFdif/ClusterProteinDesign/scripts/msa_mpnn_af2/input/full_scgd_tcr/full_tcr_igonly.pdb\"\n",
    "\n",
    "# select parts that you want predicted\n",
    "full_pdb=\"/home/tsatler/RFdif/ClusterProteinDesign/scripts/msa_mpnn_af2/input/full_scgd_tcr/full_tcr.pdb\"\n",
    "full_chains=\"D,G\" # chains to design\n",
    "\n",
    "# fix positions - 12,15,16,17,19,21,66,69,84 (chainG)\n",
    "#fix_positions=np.array([144,147,148,149,151,153,198,201,216,217]) # Positions to fix (numbering should be the same as with input sequence)\n",
    "\n",
    "fixed_positions = {\n",
    "    \"D\": np.array([]),\n",
    "    \"G\": np.array([12,15,16,17,19,21,66,69,84])\n",
    "}\n",
    "\n",
    "conservation=[0.5, 0.7] # Fraction of conserved residues to fix\n",
    "\n",
    "# prepare out dir\n",
    "os.makedirs(f\"input/{input}\", exist_ok=True)\n",
    "os.makedirs(f\"output/{input}\", exist_ok=True)"
   ]
  },
  {
   "cell_type": "markdown",
   "metadata": {},
   "source": [
    "## Functions"
   ]
  },
  {
   "cell_type": "code",
   "execution_count": 3,
   "metadata": {},
   "outputs": [],
   "source": [
    "sys.path.append('helper_scripts/')\n",
    "from mmseq_api import run_mmseq2_msa_rosettafold, generate_fasta_sequence_from_pdb, parse_fasta\n",
    "from parse_msa import get_conserved_positions, process_a3m_file_rf2, parse_a3m, process_a3m_file_af2\n",
    "from parse_mpnn_seqs import extract_scores, calculate_seq_identity\n",
    "from plot_scores import create_and_save_plot"
   ]
  },
  {
   "cell_type": "markdown",
   "metadata": {},
   "source": [
    "## get input sequence"
   ]
  },
  {
   "cell_type": "code",
   "execution_count": 69,
   "metadata": {},
   "outputs": [
    {
     "name": "stdout",
     "output_type": "stream",
     "text": [
      "Chain D: 205\n",
      "Chain G: 230\n"
     ]
    },
    {
     "data": {
      "text/plain": [
       "{'D': 'IELVPEHQTVPVSIGVPATLRCSMKGEAIGNYYINWYRKTQGNTMTFIYREKDIYGPGFKDNFQGDIDIAKNLAVLKILAPSERDEGSYYCASDTLGMGGEYTDKLIFGKGTRVTVEPRSQPHTKPSVFVMKNGTNVACLVKEFYPKDIRINLVSSKKITEFDPAIVISPSGKYNAVKLGKYEDSNSVTCSVQHDNKTVHSTDFE',\n",
       " 'G': 'GHLEQPQISSTKTLSKTARLECVVSGITISATSVYWYRERPGEVIQFLVSISYDGTVRKESGIPSGKFEVDRIPETSTSTLTIHNVEKQDIATYYCALWEAQQELGKKIKVFGPGTKLIITDKQLDADVSPKPTIFLPSIAETKLQKAGTYLCLLEKFFPDVIKIHWQEKKSNTILGSQEGNTMKTNDTYMKFSWLTVPEESLDKEHRCIVRHENNKNGVDQEIIFPPIK'}"
      ]
     },
     "execution_count": 69,
     "metadata": {},
     "output_type": "execute_result"
    }
   ],
   "source": [
    "# Parse PDB\n",
    "seqs = generate_fasta_sequence_from_pdb(input_pdb,f\"input/{input}/\")\n",
    "for chain_name, sequence in seqs.items():\n",
    "    print(f\"Chain {chain_name}: {len(sequence)}\")\n",
    "seqs"
   ]
  },
  {
   "cell_type": "code",
   "execution_count": 70,
   "metadata": {},
   "outputs": [
    {
     "data": {
      "text/plain": [
       "'IELVPEHQTVPVSIGVPATLRCSMKGEAIGNYYINWYRKTQGNTMTFIYREKDIYGPGFKDNFQGDIDIAKNLAVLKILAPSERDEGSYYCASDTLGMGGEYTDKLIFGKGTRVTVEPRSQPHTKPSVFVMKNGTNVACLVKEFYPKDIRINLVSSKKITEFDPAIVISPSGKYNAVKLGKYEDSNSVTCSVQHDNKTVHSTDFE:GHLEQPQISSTKTLSKTARLECVVSGITISATSVYWYRERPGEVIQFLVSISYDGTVRKESGIPSGKFEVDRIPETSTSTLTIHNVEKQDIATYYCALWEAQQELGKKIKVFGPGTKLIITDKQLDADVSPKPTIFLPSIAETKLQKAGTYLCLLEKFFPDVIKIHWQEKKSNTILGSQEGNTMKTNDTYMKFSWLTVPEESLDKEHRCIVRHENNKNGVDQEIIFPPIK'"
      ]
     },
     "execution_count": 70,
     "metadata": {},
     "output_type": "execute_result"
    }
   ],
   "source": [
    "# Input sequence\n",
    "input_sequence = \":\".join(seqs.values())\n",
    "input_sequence"
   ]
  },
  {
   "cell_type": "markdown",
   "metadata": {},
   "source": [
    "## MSA generation"
   ]
  },
  {
   "cell_type": "code",
   "execution_count": 74,
   "metadata": {},
   "outputs": [
    {
     "name": "stdout",
     "output_type": "stream",
     "text": [
      "Running paired MSA for AF2!\n",
      "Starting MSA...\n",
      "getting paired MSA\n",
      "getting unpaired MSA\n"
     ]
    },
    {
     "name": "stderr",
     "output_type": "stream",
     "text": [
      "- 17:39:26.136 INFO: Input file = output/full_scgd_tcr/full_scgd_tcr_paired/paired_in_full_scgd_tcr_paired.a3m\n",
      "\n",
      "- 17:39:26.136 INFO: Output file = output/full_scgd_tcr/full_scgd_tcr_paired/paired_out_full_scgd_tcr_paired.a3m\n",
      "\n",
      "- 17:39:26.192 INFO: Input file = output/full_scgd_tcr/full_scgd_tcr_paired/in_full_scgd_tcr_paired_0.a3m\n",
      "\n",
      "- 17:39:26.192 INFO: Output file = output/full_scgd_tcr/full_scgd_tcr_paired/out_full_scgd_tcr_paired_0.a3m\n",
      "\n",
      "- 17:39:26.299 INFO: Input file = output/full_scgd_tcr/full_scgd_tcr_paired/in_full_scgd_tcr_paired_1.a3m\n",
      "\n",
      "- 17:39:26.299 INFO: Output file = output/full_scgd_tcr/full_scgd_tcr_paired/out_full_scgd_tcr_paired_1.a3m\n",
      "\n"
     ]
    },
    {
     "name": "stdout",
     "output_type": "stream",
     "text": [
      "Done!\n",
      "Running unpaired MSA for calculation of conserved residues!\n",
      "Making MSA for chain D. Will be stored at: output/full_scgd_tcr/full_scgd_tcr_chainD.a3m\n",
      "Starting MSA...\n",
      "getting unpaired MSA\n",
      "Done!\n",
      "Making MSA for chain G. Will be stored at: output/full_scgd_tcr/full_scgd_tcr_chainG.a3m\n",
      "Starting MSA...\n",
      "getting unpaired MSA\n"
     ]
    },
    {
     "name": "stderr",
     "output_type": "stream",
     "text": [
      "- 17:39:26.409 INFO: Input file = output/full_scgd_tcr/full_scgd_tcr_chainD/in_full_scgd_tcr_chainD_0.a3m\n",
      "\n",
      "- 17:39:26.409 INFO: Output file = output/full_scgd_tcr/full_scgd_tcr_chainD/out_full_scgd_tcr_chainD_0.a3m\n",
      "\n",
      "- 17:39:26.541 INFO: Input file = output/full_scgd_tcr/full_scgd_tcr_chainG/in_full_scgd_tcr_chainG_0.a3m\n",
      "\n",
      "- 17:39:26.541 INFO: Output file = output/full_scgd_tcr/full_scgd_tcr_chainG/out_full_scgd_tcr_chainG_0.a3m\n",
      "\n"
     ]
    },
    {
     "name": "stdout",
     "output_type": "stream",
     "text": [
      "Done!\n",
      "{'paired': 'output/full_scgd_tcr/full_scgd_tcr_paired.a3m', 'D': 'output/full_scgd_tcr/full_scgd_tcr_chainD.a3m', 'G': 'output/full_scgd_tcr/full_scgd_tcr_chainG.a3m'}\n"
     ]
    }
   ],
   "source": [
    "msa_paths = {}\n",
    "\n",
    "#print(\"Running paired MSA for AF2!\")\n",
    "#run_mmseq2_msa_rosettafold(input_sequence,f\"output/{input}\",cov=50, id=90, max_msa=2048,mode=\"unpaired_paired\", msa_name=f\"{input}_paired\")\n",
    "#msa_paths[\"paired\"] = f\"output/{input}/{input}_paired.a3m\"\n",
    "\n",
    "print(\"Running unpaired MSA for calculation of conserved residues!\")\n",
    "for chain_name, sequence in seqs.items():\n",
    "    msa_path = f\"output/{input}/{input}_chain{chain_name}.a3m\"\n",
    "    msa_paths[chain_name] = msa_path\n",
    "    print(f\"Making MSA for chain {chain_name}. Will be stored at: {msa_path}\")\n",
    "    run_mmseq2_msa_rosettafold(sequence,f\"output/{input}\",cov=50, id=90, max_msa=2048,mode=\"unpaired_paired\", msa_name=f\"{input}_chain{chain_name}\")\n",
    "\n",
    "print(msa_paths)"
   ]
  },
  {
   "cell_type": "markdown",
   "metadata": {},
   "source": [
    "## Get conserved residues"
   ]
  },
  {
   "cell_type": "code",
   "execution_count": 8,
   "metadata": {},
   "outputs": [],
   "source": [
    "import numpy as np\n",
    "\n",
    "chains_dict = {}\n",
    "conserved_positions_dict = {}\n",
    "fixed_positions_dict = {}\n",
    "\n",
    "for chain_name, sequence in seqs.items():\n",
    "    msa = f\"output/{input}/{input}_chain{chain_name}.a3m\"\n",
    "    \n",
    "    # Initialize dictionaries for the current chain\n",
    "    conserved_positions_dict[chain_name] = {}\n",
    "    fixed_positions_dict[chain_name] = {}\n",
    "\n",
    "    for conv_frac in conservation:\n",
    "        conserved_positions = get_conserved_positions(msa, frac_conserved=conv_frac, min_count=10)\n",
    "        conserved_positions_dict[chain_name][conv_frac] = conserved_positions\n",
    "        \n",
    "        # Calculate fix_conserved positions by combining conserved and fixed positions\n",
    "        fix_conserved_positions = list(np.unique(np.hstack((conserved_positions, fixed_positions.get(chain_name, [])))))\n",
    "        fixed_positions_dict[chain_name][conv_frac] = fix_conserved_positions\n"
   ]
  },
  {
   "cell_type": "code",
   "execution_count": 9,
   "metadata": {},
   "outputs": [
    {
     "name": "stdout",
     "output_type": "stream",
     "text": [
      "Chain: D, Conservation: 0.5, Conserved: 102, Fixed: 102 of total 205\n",
      "Chain: D, Conservation: 0.7, Conserved: 143, Fixed: 143 of total 205\n",
      "Chain: G, Conservation: 0.5, Conserved: 115, Fixed: 121 of total 230\n",
      "Chain: G, Conservation: 0.7, Conserved: 161, Fixed: 163 of total 230\n"
     ]
    }
   ],
   "source": [
    "for chain_name, cons_dict in conserved_positions_dict.items():\n",
    "    for conv_frac, cons_positions in cons_dict.items():\n",
    "        print(f\"Chain: {chain_name}, Conservation: {conv_frac}, Conserved: {len(cons_positions)}, Fixed: {len(fixed_positions_dict[chain_name][conv_frac])} of total {len(seqs[chain_name])}\")\n"
   ]
  },
  {
   "cell_type": "code",
   "execution_count": 10,
   "metadata": {},
   "outputs": [],
   "source": [
    "# Custom JSON encoder to handle int64 data type\n",
    "class NumpyEncoder(json.JSONEncoder):\n",
    "    def default(self, obj):\n",
    "        if isinstance(obj, np.integer):\n",
    "            return int(obj)\n",
    "        return super(NumpyEncoder, self).default(obj)\n",
    "\n",
    "# Create a dictionary to store all the data\n",
    "data = {\n",
    "    \"input\": input,\n",
    "    \"input_pdb\": input_pdb,\n",
    "    \"full_pdb\": full_pdb,\n",
    "    \"full_chains\": full_chains,\n",
    "    \"input_sequence\": input_sequence,\n",
    "    \"chain_seqs\": seqs,\n",
    "    \"msa_paths\": msa_paths,\n",
    "    \"fixed_positions\": {k: v.tolist() for k, v in fixed_positions.items()},\n",
    "    \"conserved_positions_dict\": {k: {k2: v2.tolist() if isinstance(v2, np.ndarray) else v2 for k2, v2 in v.items()} for k, v in conserved_positions_dict.items()},\n",
    "    \"fixed_positions_dict\": {k: {k2: v2.tolist() if isinstance(v2, np.ndarray) else v2 for k2, v2 in v.items()} for k, v in fixed_positions_dict.items()}\n",
    "}\n",
    "\n",
    "# Define the filename for the JSON file\n",
    "json_file_path = f'output/{input}/input_data.json'\n",
    "\n",
    "# Save all the data to a single JSON file using the custom encoder\n",
    "with open(json_file_path, \"w\") as json_file:\n",
    "    json.dump(data, json_file, indent=3, cls=NumpyEncoder)"
   ]
  },
  {
   "cell_type": "code",
   "execution_count": 12,
   "metadata": {},
   "outputs": [
    {
     "name": "stdout",
     "output_type": "stream",
     "text": [
      "select in chimera:\n",
      "select #3/D:1,2,3,4,5,6,7,9,10,11,12,14,15,17,20,21,22,23,25,26,29,32,33,36,37,38,39,41,42,43,45,46,47,50,55,57,58,62,63,64,65,66,68,70,72,74,75,76,78,79,81,83,84,85,86,87,89,90,91,92,107,108,109,111,112,114,115,116,118,126,127,128,129,137,139,140,141,143,144,145,146,149,151,153,157,170,172,174,175,176,178,188,189,190,192,194,198,201,202,203,204,205\n",
      "select #3/D:1,2,3,4,5,6,7,8,9,10,11,12,14,15,16,17,18,19,20,21,22,23,25,26,28,29,30,32,33,34,35,36,37,38,39,41,42,43,44,45,46,47,48,49,50,53,55,57,58,59,60,62,63,64,65,66,68,70,71,72,73,74,75,76,77,78,79,80,81,82,83,84,85,86,87,88,89,90,91,92,100,107,108,109,111,112,114,115,116,118,120,126,127,128,129,130,131,133,135,136,137,138,139,140,141,142,143,144,145,146,147,149,150,151,153,156,157,167,168,170,172,174,175,176,178,180,182,184,187,188,189,190,192,194,196,197,198,199,201,202,203,204,205\n",
      "select #3/G:1,2,3,4,5,7,9,11,12,15,16,17,18,19,20,21,22,25,26,34,35,36,37,38,39,40,41,42,44,45,49,50,53,61,62,64,66,67,68,69,71,72,75,81,82,83,84,86,89,90,91,92,94,95,96,97,99,100,111,112,113,115,116,117,118,120,127,131,133,134,136,137,138,139,142,147,148,149,150,151,152,153,154,158,159,160,163,165,167,168,170,171,174,175,177,178,180,181,185,188,190,193,194,195,196,197,198,203,205,207,209,211,213,214,220,224,226,227,228,229,230\n",
      "select #3/G:1,2,3,4,5,6,7,9,10,11,12,15,16,17,18,19,20,21,22,25,26,33,34,35,36,37,38,39,40,41,42,44,45,47,48,49,50,53,55,59,61,62,64,66,67,68,69,70,71,72,73,75,76,77,78,80,81,82,83,84,86,87,89,90,91,92,94,95,96,97,99,100,101,102,110,111,112,113,115,116,117,118,119,120,122,123,125,127,131,133,134,135,136,137,138,139,141,142,143,144,147,148,149,150,151,152,153,154,155,156,157,158,159,160,162,163,165,166,167,168,170,171,174,175,177,178,180,181,185,186,187,188,189,190,191,192,193,194,195,196,197,198,200,203,204,205,207,209,210,211,212,213,214,215,219,220,224,225,226,227,228,229,230\n"
     ]
    }
   ],
   "source": [
    "# Chimera\n",
    "print(\"select in chimera:\")\n",
    "for chain_name, frac in fixed_positions_dict.items():\n",
    "    for conv_frac, positions in frac.items():\n",
    "        int_positions = [int(position) for position in positions]\n",
    "        pos = \",\".join(map(str, int_positions))\n",
    "        print(f\"select #3/{chain_name}:{pos}\")"
   ]
  },
  {
   "cell_type": "markdown",
   "metadata": {},
   "source": []
  },
  {
   "cell_type": "markdown",
   "metadata": {},
   "source": [
    "## Prepare for MPNN"
   ]
  },
  {
   "cell_type": "code",
   "execution_count": 42,
   "metadata": {},
   "outputs": [
    {
     "name": "stdout",
     "output_type": "stream",
     "text": [
      "designing chains: D G\n"
     ]
    }
   ],
   "source": [
    "### ProteinMPNN setup\n",
    "proteinmpnn_dir = '/home/tsatler/ProteinMPNN'\n",
    "parse_multiple_chains_script = f'{proteinmpnn_dir}/helper_scripts/parse_multiple_chains.py'\n",
    "assign_fixed_chains_script = f'{proteinmpnn_dir}/helper_scripts/assign_fixed_chains.py'\n",
    "make_fixed_position_script = f'{proteinmpnn_dir}/helper_scripts/make_fixed_positions_dict.py'\n",
    "make_tied_position_script = f'{proteinmpnn_dir}/helper_scripts/make_tied_positions_dict.py'\n",
    "\n",
    "\n",
    "### mpnn parameters\n",
    "mpnn_temp=[0.1, 0.2, 0.3]\n",
    "soluble_weights=True\n",
    "number_of_seq=300\n",
    "\n",
    "# copy pdb to separate folder\n",
    "mpnn_pdb=f\"input/{input}/mpnn_pdb/\"\n",
    "os.makedirs(mpnn_pdb, exist_ok=True)\n",
    "if full_pdb:\n",
    "    shutil.copy2(full_pdb,mpnn_pdb)\n",
    "else:\n",
    "    shutil.copy2(input_pdb,mpnn_pdb)\n",
    "\n",
    "# chains to design\n",
    "chains_to_design=\"\"\n",
    "chains_to_design=\" \".join(seqs.keys())\n",
    "print(f\"designing chains: {chains_to_design}\")\n",
    "\n",
    "# use soluble weights\n",
    "soluble_weights_flag=\"\"\n",
    "if soluble_weights:\n",
    "    soluble_weights_flag=\" --use_soluble_model\"\n",
    "\n",
    "# temps\n",
    "temps=\" \".join(map(str, mpnn_temp))"
   ]
  },
  {
   "cell_type": "code",
   "execution_count": 50,
   "metadata": {},
   "outputs": [
    {
     "name": "stdout",
     "output_type": "stream",
     "text": [
      "fixed_positions for 0.5 are:1 2 3 4 5 6 7 9 10 11 12 14 15 17 20 21 22 23 25 26 29 32 33 36 37 38 39 41 42 43 45 46 47 50 55 57 58 62 63 64 65 66 68 70 72 74 75 76 78 79 81 83 84 85 86 87 89 90 91 92 107 108 109 111 112 114 115 116 118 126 127 128 129 137 139 140 141 143 144 145 146 149 151 153 157 170 172 174 175 176 178 188 189 190 192 194 198 201 202 203 204 205,1 2 3 4 5 7 9 11 12 15 16 17 18 19 20 21 22 25 26 34 35 36 37 38 39 40 41 42 44 45 49 50 53 61 62 64 66 67 68 69 71 72 75 81 82 83 84 86 89 90 91 92 94 95 96 97 99 100 111 112 113 115 116 117 118 120 127 131 133 134 136 137 138 139 142 147 148 149 150 151 152 153 154 158 159 160 163 165 167 168 170 171 174 175 177 178 180 181 185 188 190 193 194 195 196 197 198 203 205 207 209 211 213 214 220 224 226 227 228 229 230\n",
      "Writing mpnn submission script to output/full_scgd_tcr/mpnn_out/run_mpnn_50.sh\n",
      "fixed_positions for 0.7 are:1 2 3 4 5 6 7 8 9 10 11 12 14 15 16 17 18 19 20 21 22 23 25 26 28 29 30 32 33 34 35 36 37 38 39 41 42 43 44 45 46 47 48 49 50 53 55 57 58 59 60 62 63 64 65 66 68 70 71 72 73 74 75 76 77 78 79 80 81 82 83 84 85 86 87 88 89 90 91 92 100 107 108 109 111 112 114 115 116 118 120 126 127 128 129 130 131 133 135 136 137 138 139 140 141 142 143 144 145 146 147 149 150 151 153 156 157 167 168 170 172 174 175 176 178 180 182 184 187 188 189 190 192 194 196 197 198 199 201 202 203 204 205,1 2 3 4 5 6 7 9 10 11 12 15 16 17 18 19 20 21 22 25 26 33 34 35 36 37 38 39 40 41 42 44 45 47 48 49 50 53 55 59 61 62 64 66 67 68 69 70 71 72 73 75 76 77 78 80 81 82 83 84 86 87 89 90 91 92 94 95 96 97 99 100 101 102 110 111 112 113 115 116 117 118 119 120 122 123 125 127 131 133 134 135 136 137 138 139 141 142 143 144 147 148 149 150 151 152 153 154 155 156 157 158 159 160 162 163 165 166 167 168 170 171 174 175 177 178 180 181 185 186 187 188 189 190 191 192 193 194 195 196 197 198 200 203 204 205 207 209 210 211 212 213 214 215 219 220 224 225 226 227 228 229 230\n",
      "Writing mpnn submission script to output/full_scgd_tcr/mpnn_out/run_mpnn_70.sh\n"
     ]
    }
   ],
   "source": [
    "### Prepare MPNN script\n",
    "mpnn_outdir=f\"output/{input}/mpnn_out\"\n",
    "os.makedirs(mpnn_outdir, exist_ok=True)\n",
    "\n",
    "for conv in conservation:\n",
    "    fixed_pos_list=[]\n",
    "    for chain in fixed_positions_dict:\n",
    "        #print(\" \".join(map(str, map(int, fixed_positions_dict[chain][conv]))))\n",
    "        fixed_pos_list.append(\" \".join(map(str, map(int, fixed_positions_dict[chain][conv]))))\n",
    "\n",
    "    fixed_positions=','.join(fixed_pos_list)\n",
    "    print(f\"fixed_positions for {conv} are:{fixed_positions}\")\n",
    "\n",
    "    #fixed_positions=' '.join([str(i) for i in positions])\n",
    "    conv_perc=int(conv*100)\n",
    "    seq_out=f\"{mpnn_outdir}/mpnn_conv{conv_perc}\"\n",
    "    os.makedirs(seq_out, exist_ok=True)\n",
    "\n",
    "    mpnn_txt = \\\n",
    "f'''#!/bin/bash\n",
    "#SBATCH -J scFvCD19-mpnn\n",
    "#SBATCH -p gpu\n",
    "#SBATCH --gres=gpu:A40:1\n",
    "#SBATCH --output={mpnn_outdir}/mpnn_conv{conv_perc}.out\n",
    "\n",
    "source /home/tsatler/anaconda3/etc/profile.d/conda.sh\n",
    "conda activate mlfold\n",
    "\n",
    "folder_with_pdbs='{mpnn_pdb}'\n",
    "path_for_parsed_chains='{seq_out}/parsed_pdbs.jsonl'\n",
    "path_for_assigned_chains='{seq_out}/assigned_pdbs.jsonl'\n",
    "path_for_fixed_positions='{seq_out}/fixed_pdbs.jsonl'\n",
    "path_for_tied_positions='{seq_out}/tied_pdbs.jsonl'\n",
    "chains_to_design=\"{chains_to_design}\"\n",
    "path_for_designed_sequences='{seq_out}' \n",
    "\n",
    "python {parse_multiple_chains_script} --input_path=$folder_with_pdbs --output_path=$path_for_parsed_chains\n",
    "python {assign_fixed_chains_script} --input_path=$path_for_parsed_chains --output_path=$path_for_assigned_chains --chain_list \"$chains_to_design\"\n",
    "python {make_fixed_position_script} --input_path=$path_for_parsed_chains --position_list \"{fixed_positions}\" --chain_list \"$chains_to_design\" --output_path=$path_for_fixed_positions\n",
    "#python {make_tied_position_script} --input_path=$path_for_parsed_chains --output_path=$path_for_tied_positions --homooligomer 1\n",
    "\n",
    "python {proteinmpnn_dir}/protein_mpnn_run.py \\\n",
    "    --jsonl_path $path_for_parsed_chains \\\n",
    "    --chain_id_jsonl $path_for_assigned_chains \\\n",
    "    --fixed_positions_jsonl $path_for_fixed_positions \\\n",
    "    --tied_positions_jsonl $path_for_tied_positions \\\n",
    "    --out_folder $path_for_designed_sequences \\\n",
    "    --num_seq_per_target {number_of_seq} \\\n",
    "    --sampling_temp \"{temps}\" \\\n",
    "    --batch_size 8 \\\n",
    "    --omit_AAs='XC' {soluble_weights_flag}\n",
    "    '''\n",
    "    script=f\"{mpnn_outdir}/run_mpnn_{conv_perc}.sh\"\n",
    "\n",
    "    with open(script,'w') as f:\n",
    "        f.write(mpnn_txt)\n",
    "        print(f\"Writing mpnn submission script to {script}\")"
   ]
  },
  {
   "cell_type": "code",
   "execution_count": 51,
   "metadata": {},
   "outputs": [
    {
     "name": "stdout",
     "output_type": "stream",
     "text": [
      "Submitted batch job 292419\n",
      "Submitted batch job 292420\n"
     ]
    }
   ],
   "source": [
    "### submit\n",
    "for conv_frac in conservation:\n",
    "    conv_perc=int(conv_frac*100)\n",
    "    mpnn_outdir=f\"output/{input}/mpnn_out\"\n",
    "    script=f\"{mpnn_outdir}/run_mpnn_{conv_perc}.sh\"\n",
    "    cmd=f\"sbatch {script}\"\n",
    "    subprocess.run(cmd, shell=True)"
   ]
  },
  {
   "cell_type": "code",
   "execution_count": 53,
   "metadata": {},
   "outputs": [
    {
     "name": "stdout",
     "output_type": "stream",
     "text": [
      "             JOBID PARTITION     NAME     USER ST       TIME  NODES NODELIST(REASON)\n",
      "            292419       gpu scFvCD19  tsatler  R       0:01      1 compute-0-12\n",
      "            292420       gpu scFvCD19  tsatler  R       0:01      1 compute-0-12\n"
     ]
    }
   ],
   "source": [
    "!squeue --me"
   ]
  },
  {
   "cell_type": "markdown",
   "metadata": {},
   "source": [
    "## Parse MPNN sequences"
   ]
  },
  {
   "cell_type": "code",
   "execution_count": 4,
   "metadata": {},
   "outputs": [
    {
     "name": "stdout",
     "output_type": "stream",
     "text": [
      "input_sequence: IELVPEHQTVPVSIGVPATLRCSMKGEAIGNYYINWYRKTQGNTMTFIYREKDIYGPGFKDNFQGDIDIAKNLAVLKILAPSERDEGSYYCASDTLGMGGEYTDKLIFGKGTRVTVEPRSQPHTKPSVFVMKNGTNVACLVKEFYPKDIRINLVSSKKITEFDPAIVISPSGKYNAVKLGKYEDSNSVTCSVQHDNKTVHSTDFE:GHLEQPQISSTKTLSKTARLECVVSGITISATSVYWYRERPGEVIQFLVSISYDGTVRKESGIPSGKFEVDRIPETSTSTLTIHNVEKQDIATYYCALWEAQQELGKKIKVFGPGTKLIITDKQLDADVSPKPTIFLPSIAETKLQKAGTYLCLLEKFFPDVIKIHWQEKKSNTILGSQEGNTMKTNDTYMKFSWLTVPEESLDKEHRCIVRHENNKNGVDQEIIFPPIK\n",
      "msa_paths: {'D': 'output/full_scgd_tcr/full_scgd_tcr_chainD.a3m', 'G': 'output/full_scgd_tcr/full_scgd_tcr_chainG.a3m'}\n",
      "fixed_positions: {'D': [], 'G': [12, 15, 16, 17, 19, 21, 66, 69, 84]}\n",
      "conserved_positions_dict: {'D': {'0.5': [205, 190, 22, 36, 139, 91, 85, 89, 109, 76, 111, 116, 140, 146, 62, 174, 42, 112, 194, 39, 87, 68, 202, 66, 41, 192, 1, 115, 90, 204, 70, 126, 203, 14, 3, 5, 144, 15, 25, 72, 172, 32, 26, 63, 128, 114, 129, 153, 127, 11, 143, 92, 20, 151, 81, 198, 83, 33, 7, 145, 78, 2, 12, 64, 188, 6, 84, 37, 9, 175, 118, 108, 75, 38, 170, 149, 43, 4, 157, 45, 137, 58, 141, 23, 10, 86, 189, 79, 17, 65, 21, 55, 74, 47, 107, 29, 201, 50, 176, 178, 57, 46], '0.7': [205, 190, 22, 36, 139, 91, 85, 89, 109, 76, 111, 116, 140, 146, 62, 174, 42, 112, 194, 39, 87, 68, 202, 66, 41, 192, 1, 115, 90, 204, 70, 126, 203, 14, 3, 5, 144, 15, 25, 72, 172, 32, 26, 63, 128, 114, 129, 153, 127, 11, 143, 92, 20, 151, 81, 198, 83, 33, 7, 145, 78, 2, 12, 64, 188, 6, 84, 37, 9, 175, 118, 108, 75, 38, 170, 149, 43, 4, 157, 45, 137, 58, 141, 23, 10, 86, 189, 79, 17, 65, 21, 55, 74, 47, 107, 29, 201, 50, 176, 178, 57, 46, 196, 199, 147, 80, 82, 131, 59, 28, 16, 44, 184, 18, 142, 182, 30, 180, 120, 130, 35, 138, 197, 53, 88, 48, 156, 168, 135, 8, 150, 19, 100, 136, 34, 60, 167, 133, 49, 187, 77, 71, 73]}, 'G': {'0.5': [230, 1, 167, 153, 22, 96, 209, 94, 36, 160, 213, 5, 196, 90, 194, 115, 81, 131, 116, 113, 154, 227, 120, 112, 37, 95, 118, 158, 39, 15, 214, 83, 92, 165, 190, 45, 138, 42, 3, 7, 150, 139, 152, 67, 9, 136, 99, 211, 68, 50, 62, 142, 41, 207, 178, 159, 4, 197, 17, 137, 75, 229, 193, 82, 71, 226, 133, 97, 25, 100, 38, 44, 117, 205, 151, 49, 111, 11, 180, 40, 171, 228, 203, 147, 35, 61, 177, 149, 170, 148, 26, 134, 18, 86, 188, 127, 198, 89, 185, 72, 2, 168, 34, 91, 220, 175, 163, 195, 181, 174, 224, 69, 20, 53, 64], '0.7': [230, 1, 167, 153, 22, 96, 209, 94, 36, 160, 213, 5, 196, 90, 194, 115, 81, 131, 116, 113, 154, 227, 120, 112, 37, 95, 118, 158, 39, 15, 214, 83, 92, 165, 190, 45, 138, 42, 3, 7, 150, 139, 152, 67, 9, 136, 99, 211, 68, 50, 62, 142, 41, 207, 178, 159, 4, 197, 17, 137, 75, 229, 193, 82, 71, 226, 133, 97, 25, 100, 38, 44, 117, 205, 151, 49, 111, 11, 180, 40, 171, 228, 203, 147, 35, 61, 177, 149, 170, 148, 26, 134, 18, 86, 188, 127, 198, 89, 185, 72, 2, 168, 34, 91, 220, 175, 163, 195, 181, 174, 224, 69, 20, 53, 64, 123, 141, 219, 70, 143, 48, 155, 156, 215, 6, 189, 162, 33, 10, 210, 55, 122, 101, 135, 191, 21, 144, 119, 200, 87, 212, 78, 12, 102, 80, 187, 77, 110, 192, 76, 59, 186, 204, 225, 125, 166, 47, 84, 73, 66, 157]}}\n",
      "fixed_positions_dict: {'D': {'0.5': [1.0, 2.0, 3.0, 4.0, 5.0, 6.0, 7.0, 9.0, 10.0, 11.0, 12.0, 14.0, 15.0, 17.0, 20.0, 21.0, 22.0, 23.0, 25.0, 26.0, 29.0, 32.0, 33.0, 36.0, 37.0, 38.0, 39.0, 41.0, 42.0, 43.0, 45.0, 46.0, 47.0, 50.0, 55.0, 57.0, 58.0, 62.0, 63.0, 64.0, 65.0, 66.0, 68.0, 70.0, 72.0, 74.0, 75.0, 76.0, 78.0, 79.0, 81.0, 83.0, 84.0, 85.0, 86.0, 87.0, 89.0, 90.0, 91.0, 92.0, 107.0, 108.0, 109.0, 111.0, 112.0, 114.0, 115.0, 116.0, 118.0, 126.0, 127.0, 128.0, 129.0, 137.0, 139.0, 140.0, 141.0, 143.0, 144.0, 145.0, 146.0, 149.0, 151.0, 153.0, 157.0, 170.0, 172.0, 174.0, 175.0, 176.0, 178.0, 188.0, 189.0, 190.0, 192.0, 194.0, 198.0, 201.0, 202.0, 203.0, 204.0, 205.0], '0.7': [1.0, 2.0, 3.0, 4.0, 5.0, 6.0, 7.0, 8.0, 9.0, 10.0, 11.0, 12.0, 14.0, 15.0, 16.0, 17.0, 18.0, 19.0, 20.0, 21.0, 22.0, 23.0, 25.0, 26.0, 28.0, 29.0, 30.0, 32.0, 33.0, 34.0, 35.0, 36.0, 37.0, 38.0, 39.0, 41.0, 42.0, 43.0, 44.0, 45.0, 46.0, 47.0, 48.0, 49.0, 50.0, 53.0, 55.0, 57.0, 58.0, 59.0, 60.0, 62.0, 63.0, 64.0, 65.0, 66.0, 68.0, 70.0, 71.0, 72.0, 73.0, 74.0, 75.0, 76.0, 77.0, 78.0, 79.0, 80.0, 81.0, 82.0, 83.0, 84.0, 85.0, 86.0, 87.0, 88.0, 89.0, 90.0, 91.0, 92.0, 100.0, 107.0, 108.0, 109.0, 111.0, 112.0, 114.0, 115.0, 116.0, 118.0, 120.0, 126.0, 127.0, 128.0, 129.0, 130.0, 131.0, 133.0, 135.0, 136.0, 137.0, 138.0, 139.0, 140.0, 141.0, 142.0, 143.0, 144.0, 145.0, 146.0, 147.0, 149.0, 150.0, 151.0, 153.0, 156.0, 157.0, 167.0, 168.0, 170.0, 172.0, 174.0, 175.0, 176.0, 178.0, 180.0, 182.0, 184.0, 187.0, 188.0, 189.0, 190.0, 192.0, 194.0, 196.0, 197.0, 198.0, 199.0, 201.0, 202.0, 203.0, 204.0, 205.0]}, 'G': {'0.5': [1, 2, 3, 4, 5, 7, 9, 11, 12, 15, 16, 17, 18, 19, 20, 21, 22, 25, 26, 34, 35, 36, 37, 38, 39, 40, 41, 42, 44, 45, 49, 50, 53, 61, 62, 64, 66, 67, 68, 69, 71, 72, 75, 81, 82, 83, 84, 86, 89, 90, 91, 92, 94, 95, 96, 97, 99, 100, 111, 112, 113, 115, 116, 117, 118, 120, 127, 131, 133, 134, 136, 137, 138, 139, 142, 147, 148, 149, 150, 151, 152, 153, 154, 158, 159, 160, 163, 165, 167, 168, 170, 171, 174, 175, 177, 178, 180, 181, 185, 188, 190, 193, 194, 195, 196, 197, 198, 203, 205, 207, 209, 211, 213, 214, 220, 224, 226, 227, 228, 229, 230], '0.7': [1, 2, 3, 4, 5, 6, 7, 9, 10, 11, 12, 15, 16, 17, 18, 19, 20, 21, 22, 25, 26, 33, 34, 35, 36, 37, 38, 39, 40, 41, 42, 44, 45, 47, 48, 49, 50, 53, 55, 59, 61, 62, 64, 66, 67, 68, 69, 70, 71, 72, 73, 75, 76, 77, 78, 80, 81, 82, 83, 84, 86, 87, 89, 90, 91, 92, 94, 95, 96, 97, 99, 100, 101, 102, 110, 111, 112, 113, 115, 116, 117, 118, 119, 120, 122, 123, 125, 127, 131, 133, 134, 135, 136, 137, 138, 139, 141, 142, 143, 144, 147, 148, 149, 150, 151, 152, 153, 154, 155, 156, 157, 158, 159, 160, 162, 163, 165, 166, 167, 168, 170, 171, 174, 175, 177, 178, 180, 181, 185, 186, 187, 188, 189, 190, 191, 192, 193, 194, 195, 196, 197, 198, 200, 203, 204, 205, 207, 209, 210, 211, 212, 213, 214, 215, 219, 220, 224, 225, 226, 227, 228, 229, 230]}}\n",
      "input_value: full_scgd_tcr\n",
      "input_pdb: /home/tsatler/RFdif/ClusterProteinDesign/scripts/msa_mpnn_af2/input/full_scgd_tcr/full_tcr_igonly.pdb\n",
      "full_pdb: /home/tsatler/RFdif/ClusterProteinDesign/scripts/msa_mpnn_af2/output/full_scgd_tcr/full_tcr.pdb\n",
      "full_chains: D,G\n",
      "chain_seqs: {'D': 'IELVPEHQTVPVSIGVPATLRCSMKGEAIGNYYINWYRKTQGNTMTFIYREKDIYGPGFKDNFQGDIDIAKNLAVLKILAPSERDEGSYYCASDTLGMGGEYTDKLIFGKGTRVTVEPRSQPHTKPSVFVMKNGTNVACLVKEFYPKDIRINLVSSKKITEFDPAIVISPSGKYNAVKLGKYEDSNSVTCSVQHDNKTVHSTDFE', 'G': 'GHLEQPQISSTKTLSKTARLECVVSGITISATSVYWYRERPGEVIQFLVSISYDGTVRKESGIPSGKFEVDRIPETSTSTLTIHNVEKQDIATYYCALWEAQQELGKKIKVFGPGTKLIITDKQLDADVSPKPTIFLPSIAETKLQKAGTYLCLLEKFFPDVIKIHWQEKKSNTILGSQEGNTMKTNDTYMKFSWLTVPEESLDKEHRCIVRHENNKNGVDQEIIFPPIK'}\n"
     ]
    }
   ],
   "source": [
    "json_file_path = f'output/{input}/input_data.json'\n",
    "with open(json_file_path, \"r\") as json_file:\n",
    "    loaded_data = json.load(json_file)\n",
    "\n",
    "# Variables\n",
    "input_sequence = loaded_data[\"input_sequence\"]\n",
    "msa_paths = loaded_data[\"msa_paths\"]\n",
    "fixed_positions = loaded_data[\"fixed_positions\"]\n",
    "conserved_positions_dict = loaded_data[\"conserved_positions_dict\"]\n",
    "fixed_positions_dict = loaded_data[\"fixed_positions_dict\"]\n",
    "input_value = loaded_data.get(\"input\", None)\n",
    "input_pdb = loaded_data.get(\"input_pdb\", None)\n",
    "full_pdb = loaded_data.get(\"full_pdb\", None)\n",
    "full_chains = loaded_data.get(\"full_chains\", None)\n",
    "chain_seqs = loaded_data.get(\"chain_seqs\", {})\n",
    "\n",
    "print(\"input_sequence:\", input_sequence)\n",
    "print(\"msa_paths:\", msa_paths)\n",
    "print(\"fixed_positions:\", fixed_positions)\n",
    "print(\"conserved_positions_dict:\", conserved_positions_dict)\n",
    "print(\"fixed_positions_dict:\", fixed_positions_dict)\n",
    "print(\"input_value:\", input_value)\n",
    "print(\"input_pdb:\", input_pdb)\n",
    "print(\"full_pdb:\", full_pdb)\n",
    "print(\"full_chains:\", full_chains)\n",
    "print(\"chain_seqs:\", chain_seqs)"
   ]
  },
  {
   "cell_type": "code",
   "execution_count": 81,
   "metadata": {},
   "outputs": [
    {
     "name": "stdout",
     "output_type": "stream",
     "text": [
      "Dataframe with 50% fixed conserved residues and 888 sequences!\n",
      "Dataframe saved to: output/full_scgd_tcr/mpnn_out/mpnn_seqs_conv50.csv\n",
      "Dataframe with 70% fixed conserved residues and 888 sequences!\n",
      "Dataframe saved to: output/full_scgd_tcr/mpnn_out/mpnn_seqs_conv70.csv\n"
     ]
    }
   ],
   "source": [
    "### Parse mpnn sequences\n",
    "mpnn_outdir=f\"output/{input}/mpnn_out\"\n",
    "for conv_frac in conservation:\n",
    "    conv_perc=int(float(conv_frac)*100)\n",
    "    seqs=glob.glob(f\"{mpnn_outdir}/mpnn_conv{conv_perc}/seqs/*.fa\")[0]\n",
    "    df=extract_scores(seqs)\n",
    "    df = df.drop_duplicates(\"seq\")\n",
    "    df['seq'] = df['seq'].str.replace('/', ':')\n",
    "    df[\"original_seq\"]=input_sequence\n",
    "    \n",
    "    # Sequence identity to input_seq\n",
    "    df[\"seq_ident\"]=df.apply(lambda row: calculate_seq_identity(row['original_seq'], row['seq'],[]), axis=1)\n",
    "    \n",
    "    # Add unique ID\n",
    "    df[\"id\"]=None\n",
    "    df = df[['id'] + [col for col in df if col != 'id']]\n",
    "\n",
    "    for i,row in df.iterrows():\n",
    "        sample_id = row[\"sample\"]\n",
    "        temp = row[\"temp\"]\n",
    "        df.at[i, 'id'] = f\"{input}_conv{conv_perc}_{sample_id}_{str(temp).replace('.', '')}\"\n",
    "\n",
    "    \n",
    "    df_save=f\"output/{input}/mpnn_out/mpnn_seqs_conv{conv_perc}.csv\"\n",
    "    df.to_csv(df_save, index=False)\n",
    "\n",
    "    print(f\"Dataframe with {conv_perc}% fixed conserved residues and {df.shape[0]} sequences!\")\n",
    "    print(f\"Dataframe saved to: {df_save}\")\n",
    "\n"
   ]
  },
  {
   "cell_type": "markdown",
   "metadata": {},
   "source": [
    "## Run AF2 predictions"
   ]
  },
  {
   "cell_type": "code",
   "execution_count": 5,
   "metadata": {},
   "outputs": [],
   "source": [
    "### TODO - MSA calculation for af2\n",
    "# for now, run AF2\n",
    "msa_path=\"/home/tsatler/RFdif/ClusterProteinDesign/scripts/msa_mpnn_af2/output/full_scgd_tcr/full_tcr_igonly.a3m\""
   ]
  },
  {
   "cell_type": "code",
   "execution_count": 110,
   "metadata": {},
   "outputs": [],
   "source": [
    "### test\n",
    "#process_a3m_file_rf2_to_af2(df[\"seq\"][0],\"/home/tsatler/RFdif/ClusterProteinDesign/scripts/msa_mpnn_af2/output/full_scgd_tcr/full_scgd_tcr_paired.a3m\",\"/home/tsatler/RFdif/ClusterProteinDesign/scripts/msa_mpnn_af2/output/full_scgd_tcr/test.a3m\")"
   ]
  },
  {
   "cell_type": "code",
   "execution_count": 6,
   "metadata": {},
   "outputs": [
    {
     "name": "stdout",
     "output_type": "stream",
     "text": [
      "Writing af2 submission script to output/full_scgd_tcr/af2/run_af2_conv50_0.sh\n",
      "888 a3m sequences with conv50% in output/full_scgd_tcr/af2/af2_msa_input_conv50_1 ready to be predicted!\n",
      "Writing af2 submission script to output/full_scgd_tcr/af2/run_af2_conv70_0.sh\n",
      "888 a3m sequences with conv70% in output/full_scgd_tcr/af2/af2_msa_input_conv70_1 ready to be predicted!\n"
     ]
    }
   ],
   "source": [
    "### Colabfold arguments\n",
    "array_limit=10\n",
    "colabfold_args=\"--num-recycle 12\"\n",
    "\n",
    "### prepare MSAs based on initial msa\n",
    "af2_folder=f\"output/{input}/af2\"\n",
    "af2_best_folder=f\"output/{input}/af2/best\"\n",
    "os.makedirs(af2_best_folder, exist_ok=True)\n",
    "\n",
    "# Prepare MSA for AF2 (change / to :)\n",
    "#msa_path=f\"output/{input}/{input}_paired.a3m\"\n",
    "#msa_path_af2=f\"output/{input}/{input}_paired_af2.a3m\"\n",
    "\n",
    "#with open(msa_path_af2, \"w\") as output_file:\n",
    "#    output_file.write(open(msa_path, \"r\").read().replace(\"/\", \":\"))\n",
    "\n",
    "### Prepare AF2 inputs\n",
    "for conv_frac in conservation:\n",
    "    conv_perc=int(float(conv_frac)*100)\n",
    "    df = pd.read_csv(f\"output/{input}/mpnn_out/mpnn_seqs_conv{conv_perc}.csv\")\n",
    "    af2_input_folder=f\"{af2_folder}/af2_msa_input_conv{conv_perc}\"\n",
    "    af2_output_folder=f\"{af2_folder}/af2_conv{conv_perc}\"\n",
    "\n",
    "    num_a3m = len(df)\n",
    "    # Create subdirectories if there are more than 1000 files\n",
    "    num_subdirs = (num_a3m - 1) // 1000 + 1\n",
    "    for i in range(num_subdirs):\n",
    "        subdir = f\"{af2_input_folder}_{i + 1}\"\n",
    "        os.makedirs(subdir, exist_ok=True)\n",
    "\n",
    "    for i, row in df.iterrows():\n",
    "        id = row[\"id\"]\n",
    "        seq = row[\"seq\"]\n",
    "        subdir = f\"{af2_input_folder}_{i // 1000 + 1}\"\n",
    "        new_a3m_file = f\"{subdir}/{id}.a3m\"\n",
    "        process_a3m_file_af2(seq, msa_path, new_a3m_file)\n",
    "    \n",
    "    for i in range(num_subdirs):\n",
    "        subdir = f\"{af2_input_folder}_{i + 1}\"\n",
    "        subout = f\"{af2_output_folder}/{i + 1}\"\n",
    "        best_sub=f\"{af2_output_folder}/best_{i + 1}\"\n",
    "        os.makedirs(subout, exist_ok=True)\n",
    "        os.makedirs(best_sub, exist_ok=True)\n",
    "        a3ms = len(glob.glob(f\"{subdir}/*.a3m\"))\n",
    "\n",
    "        # prepare script\n",
    "        af2_txt = f'''#!/bin/bash\n",
    "#SBATCH --output=/dev/null\n",
    "#SBATCH --partition=gpu\n",
    "#SBATCH --gres=gpu:A40:1\n",
    "#SBATCH --ntasks=1\n",
    "#SBATCH --cpus-per-task=4\n",
    "#SBATCH --array=0-{a3ms-1}%{array_limit}\n",
    "\n",
    "# Activate the AlphaFold2 environment\n",
    ". /home/aljubetic/bin/set_up_AF2.3.sh\n",
    "\n",
    "msa_folder={subdir}\n",
    "input_files=($msa_folder/*.a3m)\n",
    "file=${{input_files[$SLURM_ARRAY_TASK_ID]}}\n",
    "basename=$(basename \"$file\" .a3m)\n",
    "\n",
    "outdir={subout}\n",
    "out_subdir=\"$outdir/$SLURM_ARRAY_TASK_ID\"\n",
    "best_dir={best_sub}\n",
    "additional_args=\"{colabfold_args}\"\n",
    "\n",
    "final_pdb=$best_dir/$basename.pdb\n",
    "final_json=$best_dir/$basename.json\n",
    "\n",
    "if [ ! -f \"$final_pdb\" ]; then\n",
    "    # Run AF2\n",
    "    cmd=\"/home/aljubetic/AF2/CF2.3/colabfold-conda/bin/python /home/aljubetic/AF2/CF2.3/colabfold-conda/bin/colabfold_batch $additional_args $file $out_subdir\"\n",
    "    echo $cmd\n",
    "    $cmd\n",
    "\n",
    "    # Copy best\n",
    "    cp $out_subdir/$basename*rank_001*.pdb $final_pdb\n",
    "    cp $out_subdir/$basename*rank_001*.json $final_json\n",
    "\n",
    "    # Remove other colabfold files\n",
    "    rm -r $out_subdir\n",
    "fi\n",
    "\n",
    "# Analyze\n",
    "python helper_scripts/analyze_pdbs.py \\\n",
    "{input_pdb} $final_pdb $final_json {af2_folder} --out_name af2_conv{conv_perc}\n",
    "'''\n",
    "        script=f\"{af2_folder}/run_af2_conv{conv_perc}_{i}.sh\"\n",
    "\n",
    "        with open(script,'w') as f:\n",
    "            f.write(af2_txt)\n",
    "            print(f\"Writing af2 submission script to {script}\")\n",
    "\n",
    "        print(f\"{a3ms} a3m sequences with conv{conv_perc}% in {subdir} ready to be predicted!\")\n",
    "\n",
    "    \n"
   ]
  },
  {
   "cell_type": "code",
   "execution_count": 7,
   "metadata": {},
   "outputs": [
    {
     "name": "stdout",
     "output_type": "stream",
     "text": [
      "Submitted batch job 293645\n",
      "Submitted batch job 293646\n"
     ]
    }
   ],
   "source": [
    "### Run code\n",
    "for conv_frac in conservation:\n",
    "    conv_perc=int(float(conv_frac)*100)\n",
    "    df = pd.read_csv(f\"output/{input}/mpnn_out/mpnn_seqs_conv{conv_perc}.csv\")\n",
    "    num_a3m = len(df)\n",
    "    num_subdirs = (num_a3m - 1) // 1000 + 1\n",
    "    for i in range(num_subdirs):\n",
    "        script=f\"{af2_folder}/run_af2_conv{conv_perc}_{i}.sh\"\n",
    "        cmd=f\"sbatch {script}\"\n",
    "        subprocess.run(cmd, shell=True)"
   ]
  },
  {
   "cell_type": "code",
   "execution_count": 15,
   "metadata": {},
   "outputs": [
    {
     "name": "stdout",
     "output_type": "stream",
     "text": [
      "             JOBID PARTITION     NAME     USER ST       TIME  NODES NODELIST(REASON)\n",
      "293645_[10-887%10]       gpu run_af2_  tsatler PD       0:00      1 (JobArrayTaskLimit)\n",
      "293646_[10-887%10]       gpu run_af2_  tsatler PD       0:00      1 (JobArrayTaskLimit)\n",
      "          293645_0       gpu run_af2_  tsatler  R       0:58      1 compute-0-12\n",
      "          293645_1       gpu run_af2_  tsatler  R       0:58      1 compute-0-12\n",
      "          293645_2       gpu run_af2_  tsatler  R       0:58      1 compute-0-12\n",
      "          293645_3       gpu run_af2_  tsatler  R       0:58      1 compute-0-12\n",
      "          293645_4       gpu run_af2_  tsatler  R       0:58      1 compute-0-10\n",
      "          293645_5       gpu run_af2_  tsatler  R       0:58      1 compute-0-10\n",
      "          293645_6       gpu run_af2_  tsatler  R       0:58      1 compute-0-10\n",
      "          293645_7       gpu run_af2_  tsatler  R       0:58      1 compute-0-10\n",
      "          293645_8       gpu run_af2_  tsatler  R       0:58      1 compute-0-10\n",
      "          293645_9       gpu run_af2_  tsatler  R       0:58      1 compute-0-10\n",
      "          293646_0       gpu run_af2_  tsatler  R       0:58      1 compute-0-10\n",
      "          293646_1       gpu run_af2_  tsatler  R       0:58      1 compute-0-10\n",
      "          293646_2       gpu run_af2_  tsatler  R       0:58      1 compute-6-3\n",
      "          293646_3       gpu run_af2_  tsatler  R       0:58      1 compute-6-3\n",
      "          293646_4       gpu run_af2_  tsatler  R       0:58      1 compute-6-3\n",
      "          293646_5       gpu run_af2_  tsatler  R       0:58      1 compute-6-3\n",
      "          293646_6       gpu run_af2_  tsatler  R       0:58      1 compute-6-3\n",
      "          293646_7       gpu run_af2_  tsatler  R       0:58      1 compute-6-3\n",
      "          293646_8       gpu run_af2_  tsatler  R       0:58      1 compute-6-3\n",
      "          293646_9       gpu run_af2_  tsatler  R       0:58      1 compute-6-4\n"
     ]
    }
   ],
   "source": [
    "!squeue --me"
   ]
  },
  {
   "cell_type": "markdown",
   "metadata": {},
   "source": [
    "## Filter scores and analyze data"
   ]
  },
  {
   "cell_type": "code",
   "execution_count": 9,
   "metadata": {},
   "outputs": [
    {
     "name": "stdout",
     "output_type": "stream",
     "text": [
      "input_sequence: IELVPEHQTVPVSIGVPATLRCSMKGEAIGNYYINWYRKTQGNTMTFIYREKDIYGPGFKDNFQGDIDIAKNLAVLKILAPSERDEGSYYCASDTLGMGGEYTDKLIFGKGTRVTVEPRSQPHTKPSVFVMKNGTNVACLVKEFYPKDIRINLVSSKKITEFDPAIVISPSGKYNAVKLGKYEDSNSVTCSVQHDNKTVHSTDFE:GHLEQPQISSTKTLSKTARLECVVSGITISATSVYWYRERPGEVIQFLVSISYDGTVRKESGIPSGKFEVDRIPETSTSTLTIHNVEKQDIATYYCALWEAQQELGKKIKVFGPGTKLIITDKQLDADVSPKPTIFLPSIAETKLQKAGTYLCLLEKFFPDVIKIHWQEKKSNTILGSQEGNTMKTNDTYMKFSWLTVPEESLDKEHRCIVRHENNKNGVDQEIIFPPIK\n",
      "msa_paths: {'D': 'output/full_scgd_tcr/full_scgd_tcr_chainD.a3m', 'G': 'output/full_scgd_tcr/full_scgd_tcr_chainG.a3m'}\n",
      "fixed_positions: {'D': [], 'G': [12, 15, 16, 17, 19, 21, 66, 69, 84]}\n",
      "conserved_positions_dict: {'D': {'0.5': [205, 190, 22, 36, 139, 91, 85, 89, 109, 76, 111, 116, 140, 146, 62, 174, 42, 112, 194, 39, 87, 68, 202, 66, 41, 192, 1, 115, 90, 204, 70, 126, 203, 14, 3, 5, 144, 15, 25, 72, 172, 32, 26, 63, 128, 114, 129, 153, 127, 11, 143, 92, 20, 151, 81, 198, 83, 33, 7, 145, 78, 2, 12, 64, 188, 6, 84, 37, 9, 175, 118, 108, 75, 38, 170, 149, 43, 4, 157, 45, 137, 58, 141, 23, 10, 86, 189, 79, 17, 65, 21, 55, 74, 47, 107, 29, 201, 50, 176, 178, 57, 46], '0.7': [205, 190, 22, 36, 139, 91, 85, 89, 109, 76, 111, 116, 140, 146, 62, 174, 42, 112, 194, 39, 87, 68, 202, 66, 41, 192, 1, 115, 90, 204, 70, 126, 203, 14, 3, 5, 144, 15, 25, 72, 172, 32, 26, 63, 128, 114, 129, 153, 127, 11, 143, 92, 20, 151, 81, 198, 83, 33, 7, 145, 78, 2, 12, 64, 188, 6, 84, 37, 9, 175, 118, 108, 75, 38, 170, 149, 43, 4, 157, 45, 137, 58, 141, 23, 10, 86, 189, 79, 17, 65, 21, 55, 74, 47, 107, 29, 201, 50, 176, 178, 57, 46, 196, 199, 147, 80, 82, 131, 59, 28, 16, 44, 184, 18, 142, 182, 30, 180, 120, 130, 35, 138, 197, 53, 88, 48, 156, 168, 135, 8, 150, 19, 100, 136, 34, 60, 167, 133, 49, 187, 77, 71, 73]}, 'G': {'0.5': [230, 1, 167, 153, 22, 96, 209, 94, 36, 160, 213, 5, 196, 90, 194, 115, 81, 131, 116, 113, 154, 227, 120, 112, 37, 95, 118, 158, 39, 15, 214, 83, 92, 165, 190, 45, 138, 42, 3, 7, 150, 139, 152, 67, 9, 136, 99, 211, 68, 50, 62, 142, 41, 207, 178, 159, 4, 197, 17, 137, 75, 229, 193, 82, 71, 226, 133, 97, 25, 100, 38, 44, 117, 205, 151, 49, 111, 11, 180, 40, 171, 228, 203, 147, 35, 61, 177, 149, 170, 148, 26, 134, 18, 86, 188, 127, 198, 89, 185, 72, 2, 168, 34, 91, 220, 175, 163, 195, 181, 174, 224, 69, 20, 53, 64], '0.7': [230, 1, 167, 153, 22, 96, 209, 94, 36, 160, 213, 5, 196, 90, 194, 115, 81, 131, 116, 113, 154, 227, 120, 112, 37, 95, 118, 158, 39, 15, 214, 83, 92, 165, 190, 45, 138, 42, 3, 7, 150, 139, 152, 67, 9, 136, 99, 211, 68, 50, 62, 142, 41, 207, 178, 159, 4, 197, 17, 137, 75, 229, 193, 82, 71, 226, 133, 97, 25, 100, 38, 44, 117, 205, 151, 49, 111, 11, 180, 40, 171, 228, 203, 147, 35, 61, 177, 149, 170, 148, 26, 134, 18, 86, 188, 127, 198, 89, 185, 72, 2, 168, 34, 91, 220, 175, 163, 195, 181, 174, 224, 69, 20, 53, 64, 123, 141, 219, 70, 143, 48, 155, 156, 215, 6, 189, 162, 33, 10, 210, 55, 122, 101, 135, 191, 21, 144, 119, 200, 87, 212, 78, 12, 102, 80, 187, 77, 110, 192, 76, 59, 186, 204, 225, 125, 166, 47, 84, 73, 66, 157]}}\n",
      "fixed_positions_dict: {'D': {'0.5': [1.0, 2.0, 3.0, 4.0, 5.0, 6.0, 7.0, 9.0, 10.0, 11.0, 12.0, 14.0, 15.0, 17.0, 20.0, 21.0, 22.0, 23.0, 25.0, 26.0, 29.0, 32.0, 33.0, 36.0, 37.0, 38.0, 39.0, 41.0, 42.0, 43.0, 45.0, 46.0, 47.0, 50.0, 55.0, 57.0, 58.0, 62.0, 63.0, 64.0, 65.0, 66.0, 68.0, 70.0, 72.0, 74.0, 75.0, 76.0, 78.0, 79.0, 81.0, 83.0, 84.0, 85.0, 86.0, 87.0, 89.0, 90.0, 91.0, 92.0, 107.0, 108.0, 109.0, 111.0, 112.0, 114.0, 115.0, 116.0, 118.0, 126.0, 127.0, 128.0, 129.0, 137.0, 139.0, 140.0, 141.0, 143.0, 144.0, 145.0, 146.0, 149.0, 151.0, 153.0, 157.0, 170.0, 172.0, 174.0, 175.0, 176.0, 178.0, 188.0, 189.0, 190.0, 192.0, 194.0, 198.0, 201.0, 202.0, 203.0, 204.0, 205.0], '0.7': [1.0, 2.0, 3.0, 4.0, 5.0, 6.0, 7.0, 8.0, 9.0, 10.0, 11.0, 12.0, 14.0, 15.0, 16.0, 17.0, 18.0, 19.0, 20.0, 21.0, 22.0, 23.0, 25.0, 26.0, 28.0, 29.0, 30.0, 32.0, 33.0, 34.0, 35.0, 36.0, 37.0, 38.0, 39.0, 41.0, 42.0, 43.0, 44.0, 45.0, 46.0, 47.0, 48.0, 49.0, 50.0, 53.0, 55.0, 57.0, 58.0, 59.0, 60.0, 62.0, 63.0, 64.0, 65.0, 66.0, 68.0, 70.0, 71.0, 72.0, 73.0, 74.0, 75.0, 76.0, 77.0, 78.0, 79.0, 80.0, 81.0, 82.0, 83.0, 84.0, 85.0, 86.0, 87.0, 88.0, 89.0, 90.0, 91.0, 92.0, 100.0, 107.0, 108.0, 109.0, 111.0, 112.0, 114.0, 115.0, 116.0, 118.0, 120.0, 126.0, 127.0, 128.0, 129.0, 130.0, 131.0, 133.0, 135.0, 136.0, 137.0, 138.0, 139.0, 140.0, 141.0, 142.0, 143.0, 144.0, 145.0, 146.0, 147.0, 149.0, 150.0, 151.0, 153.0, 156.0, 157.0, 167.0, 168.0, 170.0, 172.0, 174.0, 175.0, 176.0, 178.0, 180.0, 182.0, 184.0, 187.0, 188.0, 189.0, 190.0, 192.0, 194.0, 196.0, 197.0, 198.0, 199.0, 201.0, 202.0, 203.0, 204.0, 205.0]}, 'G': {'0.5': [1, 2, 3, 4, 5, 7, 9, 11, 12, 15, 16, 17, 18, 19, 20, 21, 22, 25, 26, 34, 35, 36, 37, 38, 39, 40, 41, 42, 44, 45, 49, 50, 53, 61, 62, 64, 66, 67, 68, 69, 71, 72, 75, 81, 82, 83, 84, 86, 89, 90, 91, 92, 94, 95, 96, 97, 99, 100, 111, 112, 113, 115, 116, 117, 118, 120, 127, 131, 133, 134, 136, 137, 138, 139, 142, 147, 148, 149, 150, 151, 152, 153, 154, 158, 159, 160, 163, 165, 167, 168, 170, 171, 174, 175, 177, 178, 180, 181, 185, 188, 190, 193, 194, 195, 196, 197, 198, 203, 205, 207, 209, 211, 213, 214, 220, 224, 226, 227, 228, 229, 230], '0.7': [1, 2, 3, 4, 5, 6, 7, 9, 10, 11, 12, 15, 16, 17, 18, 19, 20, 21, 22, 25, 26, 33, 34, 35, 36, 37, 38, 39, 40, 41, 42, 44, 45, 47, 48, 49, 50, 53, 55, 59, 61, 62, 64, 66, 67, 68, 69, 70, 71, 72, 73, 75, 76, 77, 78, 80, 81, 82, 83, 84, 86, 87, 89, 90, 91, 92, 94, 95, 96, 97, 99, 100, 101, 102, 110, 111, 112, 113, 115, 116, 117, 118, 119, 120, 122, 123, 125, 127, 131, 133, 134, 135, 136, 137, 138, 139, 141, 142, 143, 144, 147, 148, 149, 150, 151, 152, 153, 154, 155, 156, 157, 158, 159, 160, 162, 163, 165, 166, 167, 168, 170, 171, 174, 175, 177, 178, 180, 181, 185, 186, 187, 188, 189, 190, 191, 192, 193, 194, 195, 196, 197, 198, 200, 203, 204, 205, 207, 209, 210, 211, 212, 213, 214, 215, 219, 220, 224, 225, 226, 227, 228, 229, 230]}}\n",
      "input_value: full_scgd_tcr\n",
      "input_pdb: /home/tsatler/RFdif/ClusterProteinDesign/scripts/msa_mpnn_af2/input/full_scgd_tcr/full_tcr_igonly.pdb\n",
      "full_pdb: /home/tsatler/RFdif/ClusterProteinDesign/scripts/msa_mpnn_af2/output/full_scgd_tcr/full_tcr.pdb\n",
      "full_chains: D,G\n",
      "chain_seqs: {'D': 'IELVPEHQTVPVSIGVPATLRCSMKGEAIGNYYINWYRKTQGNTMTFIYREKDIYGPGFKDNFQGDIDIAKNLAVLKILAPSERDEGSYYCASDTLGMGGEYTDKLIFGKGTRVTVEPRSQPHTKPSVFVMKNGTNVACLVKEFYPKDIRINLVSSKKITEFDPAIVISPSGKYNAVKLGKYEDSNSVTCSVQHDNKTVHSTDFE', 'G': 'GHLEQPQISSTKTLSKTARLECVVSGITISATSVYWYRERPGEVIQFLVSISYDGTVRKESGIPSGKFEVDRIPETSTSTLTIHNVEKQDIATYYCALWEAQQELGKKIKVFGPGTKLIITDKQLDADVSPKPTIFLPSIAETKLQKAGTYLCLLEKFFPDVIKIHWQEKKSNTILGSQEGNTMKTNDTYMKFSWLTVPEESLDKEHRCIVRHENNKNGVDQEIIFPPIK'}\n"
     ]
    }
   ],
   "source": [
    "json_file_path = f'output/{input}/input_data.json'\n",
    "with open(json_file_path, \"r\") as json_file:\n",
    "    loaded_data = json.load(json_file)\n",
    "\n",
    "# Variables\n",
    "input_sequence = loaded_data[\"input_sequence\"]\n",
    "msa_paths = loaded_data[\"msa_paths\"]\n",
    "fixed_positions = loaded_data[\"fixed_positions\"]\n",
    "conserved_positions_dict = loaded_data[\"conserved_positions_dict\"]\n",
    "fixed_positions_dict = loaded_data[\"fixed_positions_dict\"]\n",
    "input_value = loaded_data.get(\"input\", None)\n",
    "input_pdb = loaded_data.get(\"input_pdb\", None)\n",
    "full_pdb = loaded_data.get(\"full_pdb\", None)\n",
    "full_chains = loaded_data.get(\"full_chains\", None)\n",
    "chain_seqs = loaded_data.get(\"chain_seqs\", {})\n",
    "\n",
    "print(\"input_sequence:\", input_sequence)\n",
    "print(\"msa_paths:\", msa_paths)\n",
    "print(\"fixed_positions:\", fixed_positions)\n",
    "print(\"conserved_positions_dict:\", conserved_positions_dict)\n",
    "print(\"fixed_positions_dict:\", fixed_positions_dict)\n",
    "print(\"input_value:\", input_value)\n",
    "print(\"input_pdb:\", input_pdb)\n",
    "print(\"full_pdb:\", full_pdb)\n",
    "print(\"full_chains:\", full_chains)\n",
    "print(\"chain_seqs:\", chain_seqs)\n"
   ]
  },
  {
   "cell_type": "code",
   "execution_count": 10,
   "metadata": {},
   "outputs": [
    {
     "data": {
      "image/png": "[encoded data removed]",
      "text/plain": [
       "<Figure size 1000x300 with 3 Axes>"
      ]
     },
     "metadata": {},
     "output_type": "display_data"
    },
    {
     "data": {
      "image/png": "[encoded data removed]",
      "text/plain": [
       "<Figure size 1000x300 with 3 Axes>"
      ]
     },
     "metadata": {},
     "output_type": "display_data"
    }
   ],
   "source": [
    "for conv_frac in conservation:\n",
    "    conv_perc=int(float(conv_frac)*100)\n",
    "    mpnn_path=f\"output/{input}/mpnn_out/mpnn_seqs_conv{conv_perc}.csv\"\n",
    "    af2_path=f\"output/{input}/af2/af2_conv{conv_perc}.csv\"\n",
    "\n",
    "    # Open dataframes\n",
    "    mpnn_scores=pd.read_csv(mpnn_path)\n",
    "    af2_scores=pd.read_csv(af2_path)\n",
    "    af2_scores[\"id\"]=af2_scores[\"model_id\"]\n",
    "\n",
    "    # Merge and save dataframes\n",
    "    merged_df = pd.merge(af2_scores, mpnn_scores, on='id', how='inner')\n",
    "    merged_df = merged_df.sort_values(\"plddt\", ascending=False)\n",
    "    merged_df.to_csv(f\"output/{input}/af2_mpnn_{input}_conv{conv_perc}.csv\")\n",
    "\n",
    "    # Plot scores\n",
    "    create_and_save_plot(merged_df, f\"output/{input}/scores_{input}_conv{conv_perc}.png\")"
   ]
  },
  {
   "cell_type": "code",
   "execution_count": 11,
   "metadata": {},
   "outputs": [
    {
     "data": {
      "text/html": [
       "<div>\n",
       "<style scoped>\n",
       "    .dataframe tbody tr th:only-of-type {\n",
       "        vertical-align: middle;\n",
       "    }\n",
       "\n",
       "    .dataframe tbody tr th {\n",
       "        vertical-align: top;\n",
       "    }\n",
       "\n",
       "    .dataframe thead th {\n",
       "        text-align: right;\n",
       "    }\n",
       "</style>\n",
       "<table border=\"1\" class=\"dataframe\">\n",
       "  <thead>\n",
       "    <tr style=\"text-align: right;\">\n",
       "      <th></th>\n",
       "      <th>plddt</th>\n",
       "      <th>pae</th>\n",
       "      <th>rmsd</th>\n",
       "      <th>name</th>\n",
       "      <th>model_id</th>\n",
       "      <th>id</th>\n",
       "      <th>temp</th>\n",
       "      <th>sample</th>\n",
       "      <th>score</th>\n",
       "      <th>global_score</th>\n",
       "      <th>sequence_recovery</th>\n",
       "      <th>seq</th>\n",
       "      <th>original_seq</th>\n",
       "      <th>seq_ident</th>\n",
       "    </tr>\n",
       "  </thead>\n",
       "  <tbody>\n",
       "    <tr>\n",
       "      <th>545</th>\n",
       "      <td>94.912437</td>\n",
       "      <td>4.422492</td>\n",
       "      <td>1.299722</td>\n",
       "      <td>output/full_scgd_tcr/af2/af2_conv70/best_1/ful...</td>\n",
       "      <td>full_scgd_tcr_conv70_262_02</td>\n",
       "      <td>full_scgd_tcr_conv70_262_02</td>\n",
       "      <td>0.2</td>\n",
       "      <td>262</td>\n",
       "      <td>1.0584</td>\n",
       "      <td>1.4548</td>\n",
       "      <td>0.4186</td>\n",
       "      <td>IELVPEHQTVPVTIGVPATLRCSVKGAAIGDYYINWYRKDQGNTMT...</td>\n",
       "      <td>IELVPEHQTVPVSIGVPATLRCSMKGEAIGNYYINWYRKTQGNTMT...</td>\n",
       "      <td>0.827982</td>\n",
       "    </tr>\n",
       "    <tr>\n",
       "      <th>473</th>\n",
       "      <td>94.286805</td>\n",
       "      <td>4.658740</td>\n",
       "      <td>1.247385</td>\n",
       "      <td>output/full_scgd_tcr/af2/af2_conv70/best_1/ful...</td>\n",
       "      <td>full_scgd_tcr_conv70_24_03</td>\n",
       "      <td>full_scgd_tcr_conv70_24_03</td>\n",
       "      <td>0.3</td>\n",
       "      <td>24</td>\n",
       "      <td>1.1007</td>\n",
       "      <td>1.4657</td>\n",
       "      <td>0.4264</td>\n",
       "      <td>IELVPEHQTVPVTIGVPATLRCSVKGAAIGDYYINWYRKDQGNTMT...</td>\n",
       "      <td>IELVPEHQTVPVSIGVPATLRCSMKGEAIGNYYINWYRKTQGNTMT...</td>\n",
       "      <td>0.830275</td>\n",
       "    </tr>\n",
       "    <tr>\n",
       "      <th>288</th>\n",
       "      <td>94.220529</td>\n",
       "      <td>4.730477</td>\n",
       "      <td>1.177620</td>\n",
       "      <td>output/full_scgd_tcr/af2/af2_conv70/best_1/ful...</td>\n",
       "      <td>full_scgd_tcr_conv70_186_02</td>\n",
       "      <td>full_scgd_tcr_conv70_186_02</td>\n",
       "      <td>0.2</td>\n",
       "      <td>186</td>\n",
       "      <td>1.0373</td>\n",
       "      <td>1.4484</td>\n",
       "      <td>0.3721</td>\n",
       "      <td>IELVPEHQTVPVTIGVPATLRCSVKGAAIGDYYINWYRKDQGNTMT...</td>\n",
       "      <td>IELVPEHQTVPVSIGVPATLRCSMKGEAIGNYYINWYRKTQGNTMT...</td>\n",
       "      <td>0.814220</td>\n",
       "    </tr>\n",
       "    <tr>\n",
       "      <th>491</th>\n",
       "      <td>94.071448</td>\n",
       "      <td>4.799004</td>\n",
       "      <td>1.171599</td>\n",
       "      <td>output/full_scgd_tcr/af2/af2_conv70/best_1/ful...</td>\n",
       "      <td>full_scgd_tcr_conv70_246_03</td>\n",
       "      <td>full_scgd_tcr_conv70_246_03</td>\n",
       "      <td>0.3</td>\n",
       "      <td>246</td>\n",
       "      <td>1.1270</td>\n",
       "      <td>1.4729</td>\n",
       "      <td>0.4651</td>\n",
       "      <td>IELVPEHQTVPVTIGVPATLRCSVKGAAIGDYYINWYRKDQGNTMT...</td>\n",
       "      <td>IELVPEHQTVPVSIGVPATLRCSMKGEAIGNYYINWYRKTQGNTMT...</td>\n",
       "      <td>0.841743</td>\n",
       "    </tr>\n",
       "    <tr>\n",
       "      <th>73</th>\n",
       "      <td>94.045172</td>\n",
       "      <td>4.783094</td>\n",
       "      <td>1.285797</td>\n",
       "      <td>output/full_scgd_tcr/af2/af2_conv70/best_1/ful...</td>\n",
       "      <td>full_scgd_tcr_conv70_12_03</td>\n",
       "      <td>full_scgd_tcr_conv70_12_03</td>\n",
       "      <td>0.3</td>\n",
       "      <td>12</td>\n",
       "      <td>1.0975</td>\n",
       "      <td>1.4562</td>\n",
       "      <td>0.3798</td>\n",
       "      <td>IELVPEHQTVPVTIGVPATLRCSVKGAAIGDYYINWYRKDQGNTMT...</td>\n",
       "      <td>IELVPEHQTVPVSIGVPATLRCSMKGEAIGNYYINWYRKTQGNTMT...</td>\n",
       "      <td>0.816514</td>\n",
       "    </tr>\n",
       "    <tr>\n",
       "      <th>...</th>\n",
       "      <td>...</td>\n",
       "      <td>...</td>\n",
       "      <td>...</td>\n",
       "      <td>...</td>\n",
       "      <td>...</td>\n",
       "      <td>...</td>\n",
       "      <td>...</td>\n",
       "      <td>...</td>\n",
       "      <td>...</td>\n",
       "      <td>...</td>\n",
       "      <td>...</td>\n",
       "      <td>...</td>\n",
       "      <td>...</td>\n",
       "      <td>...</td>\n",
       "    </tr>\n",
       "    <tr>\n",
       "      <th>538</th>\n",
       "      <td>92.212874</td>\n",
       "      <td>5.438971</td>\n",
       "      <td>1.242728</td>\n",
       "      <td>output/full_scgd_tcr/af2/af2_conv70/best_1/ful...</td>\n",
       "      <td>full_scgd_tcr_conv70_26_02</td>\n",
       "      <td>full_scgd_tcr_conv70_26_02</td>\n",
       "      <td>0.2</td>\n",
       "      <td>26</td>\n",
       "      <td>1.0352</td>\n",
       "      <td>1.4495</td>\n",
       "      <td>0.4031</td>\n",
       "      <td>IELVPEHQTVPVTIGVPATLRCSVKGAAIGDYYINWYRKDQGNTMT...</td>\n",
       "      <td>IELVPEHQTVPVSIGVPATLRCSMKGEAIGNYYINWYRKTQGNTMT...</td>\n",
       "      <td>0.823394</td>\n",
       "    </tr>\n",
       "    <tr>\n",
       "      <th>43</th>\n",
       "      <td>92.193816</td>\n",
       "      <td>5.387499</td>\n",
       "      <td>1.231759</td>\n",
       "      <td>output/full_scgd_tcr/af2/af2_conv70/best_1/ful...</td>\n",
       "      <td>full_scgd_tcr_conv70_111_03</td>\n",
       "      <td>full_scgd_tcr_conv70_111_03</td>\n",
       "      <td>0.3</td>\n",
       "      <td>111</td>\n",
       "      <td>1.0992</td>\n",
       "      <td>1.4626</td>\n",
       "      <td>0.4031</td>\n",
       "      <td>IELVPEHQTVPVTIGVPATLRCSVKGAAIGDYYINWYRKTQGNTMT...</td>\n",
       "      <td>IELVPEHQTVPVSIGVPATLRCSMKGEAIGNYYINWYRKTQGNTMT...</td>\n",
       "      <td>0.823394</td>\n",
       "    </tr>\n",
       "    <tr>\n",
       "      <th>221</th>\n",
       "      <td>92.072184</td>\n",
       "      <td>5.452367</td>\n",
       "      <td>1.226899</td>\n",
       "      <td>output/full_scgd_tcr/af2/af2_conv70/best_1/ful...</td>\n",
       "      <td>full_scgd_tcr_conv70_165_03</td>\n",
       "      <td>full_scgd_tcr_conv70_165_03</td>\n",
       "      <td>0.3</td>\n",
       "      <td>165</td>\n",
       "      <td>1.1211</td>\n",
       "      <td>1.4695</td>\n",
       "      <td>0.3643</td>\n",
       "      <td>IELVPEHQTVPVTIGVPATLRCSVKGAAIGDYYINWYRKSQGNTMT...</td>\n",
       "      <td>IELVPEHQTVPVSIGVPATLRCSMKGEAIGNYYINWYRKTQGNTMT...</td>\n",
       "      <td>0.811927</td>\n",
       "    </tr>\n",
       "    <tr>\n",
       "      <th>743</th>\n",
       "      <td>92.048828</td>\n",
       "      <td>5.395694</td>\n",
       "      <td>1.239203</td>\n",
       "      <td>output/full_scgd_tcr/af2/af2_conv70/best_1/ful...</td>\n",
       "      <td>full_scgd_tcr_conv70_54_03</td>\n",
       "      <td>full_scgd_tcr_conv70_54_03</td>\n",
       "      <td>0.3</td>\n",
       "      <td>54</td>\n",
       "      <td>1.0797</td>\n",
       "      <td>1.4623</td>\n",
       "      <td>0.3566</td>\n",
       "      <td>IELVPEHQTVPVTIGVPATLRCSVKGAAIGDYYINWYRKDQGNTMT...</td>\n",
       "      <td>IELVPEHQTVPVSIGVPATLRCSMKGEAIGNYYINWYRKTQGNTMT...</td>\n",
       "      <td>0.809633</td>\n",
       "    </tr>\n",
       "    <tr>\n",
       "      <th>172</th>\n",
       "      <td>91.842138</td>\n",
       "      <td>5.387183</td>\n",
       "      <td>1.211752</td>\n",
       "      <td>output/full_scgd_tcr/af2/af2_conv70/best_1/ful...</td>\n",
       "      <td>full_scgd_tcr_conv70_15_02</td>\n",
       "      <td>full_scgd_tcr_conv70_15_02</td>\n",
       "      <td>0.2</td>\n",
       "      <td>15</td>\n",
       "      <td>1.0780</td>\n",
       "      <td>1.4508</td>\n",
       "      <td>0.3798</td>\n",
       "      <td>IELVPEHQTVPVTIGVPATLRCSVKGAAIGDYYINWYRKDQGNTMT...</td>\n",
       "      <td>IELVPEHQTVPVSIGVPATLRCSMKGEAIGNYYINWYRKTQGNTMT...</td>\n",
       "      <td>0.816514</td>\n",
       "    </tr>\n",
       "  </tbody>\n",
       "</table>\n",
       "<p>126 rows × 14 columns</p>\n",
       "</div>"
      ],
      "text/plain": [
       "         plddt       pae      rmsd  \\\n",
       "545  94.912437  4.422492  1.299722   \n",
       "473  94.286805  4.658740  1.247385   \n",
       "288  94.220529  4.730477  1.177620   \n",
       "491  94.071448  4.799004  1.171599   \n",
       "73   94.045172  4.783094  1.285797   \n",
       "..         ...       ...       ...   \n",
       "538  92.212874  5.438971  1.242728   \n",
       "43   92.193816  5.387499  1.231759   \n",
       "221  92.072184  5.452367  1.226899   \n",
       "743  92.048828  5.395694  1.239203   \n",
       "172  91.842138  5.387183  1.211752   \n",
       "\n",
       "                                                  name  \\\n",
       "545  output/full_scgd_tcr/af2/af2_conv70/best_1/ful...   \n",
       "473  output/full_scgd_tcr/af2/af2_conv70/best_1/ful...   \n",
       "288  output/full_scgd_tcr/af2/af2_conv70/best_1/ful...   \n",
       "491  output/full_scgd_tcr/af2/af2_conv70/best_1/ful...   \n",
       "73   output/full_scgd_tcr/af2/af2_conv70/best_1/ful...   \n",
       "..                                                 ...   \n",
       "538  output/full_scgd_tcr/af2/af2_conv70/best_1/ful...   \n",
       "43   output/full_scgd_tcr/af2/af2_conv70/best_1/ful...   \n",
       "221  output/full_scgd_tcr/af2/af2_conv70/best_1/ful...   \n",
       "743  output/full_scgd_tcr/af2/af2_conv70/best_1/ful...   \n",
       "172  output/full_scgd_tcr/af2/af2_conv70/best_1/ful...   \n",
       "\n",
       "                        model_id                           id  temp  sample  \\\n",
       "545  full_scgd_tcr_conv70_262_02  full_scgd_tcr_conv70_262_02   0.2     262   \n",
       "473   full_scgd_tcr_conv70_24_03   full_scgd_tcr_conv70_24_03   0.3      24   \n",
       "288  full_scgd_tcr_conv70_186_02  full_scgd_tcr_conv70_186_02   0.2     186   \n",
       "491  full_scgd_tcr_conv70_246_03  full_scgd_tcr_conv70_246_03   0.3     246   \n",
       "73    full_scgd_tcr_conv70_12_03   full_scgd_tcr_conv70_12_03   0.3      12   \n",
       "..                           ...                          ...   ...     ...   \n",
       "538   full_scgd_tcr_conv70_26_02   full_scgd_tcr_conv70_26_02   0.2      26   \n",
       "43   full_scgd_tcr_conv70_111_03  full_scgd_tcr_conv70_111_03   0.3     111   \n",
       "221  full_scgd_tcr_conv70_165_03  full_scgd_tcr_conv70_165_03   0.3     165   \n",
       "743   full_scgd_tcr_conv70_54_03   full_scgd_tcr_conv70_54_03   0.3      54   \n",
       "172   full_scgd_tcr_conv70_15_02   full_scgd_tcr_conv70_15_02   0.2      15   \n",
       "\n",
       "      score  global_score  sequence_recovery  \\\n",
       "545  1.0584        1.4548             0.4186   \n",
       "473  1.1007        1.4657             0.4264   \n",
       "288  1.0373        1.4484             0.3721   \n",
       "491  1.1270        1.4729             0.4651   \n",
       "73   1.0975        1.4562             0.3798   \n",
       "..      ...           ...                ...   \n",
       "538  1.0352        1.4495             0.4031   \n",
       "43   1.0992        1.4626             0.4031   \n",
       "221  1.1211        1.4695             0.3643   \n",
       "743  1.0797        1.4623             0.3566   \n",
       "172  1.0780        1.4508             0.3798   \n",
       "\n",
       "                                                   seq  \\\n",
       "545  IELVPEHQTVPVTIGVPATLRCSVKGAAIGDYYINWYRKDQGNTMT...   \n",
       "473  IELVPEHQTVPVTIGVPATLRCSVKGAAIGDYYINWYRKDQGNTMT...   \n",
       "288  IELVPEHQTVPVTIGVPATLRCSVKGAAIGDYYINWYRKDQGNTMT...   \n",
       "491  IELVPEHQTVPVTIGVPATLRCSVKGAAIGDYYINWYRKDQGNTMT...   \n",
       "73   IELVPEHQTVPVTIGVPATLRCSVKGAAIGDYYINWYRKDQGNTMT...   \n",
       "..                                                 ...   \n",
       "538  IELVPEHQTVPVTIGVPATLRCSVKGAAIGDYYINWYRKDQGNTMT...   \n",
       "43   IELVPEHQTVPVTIGVPATLRCSVKGAAIGDYYINWYRKTQGNTMT...   \n",
       "221  IELVPEHQTVPVTIGVPATLRCSVKGAAIGDYYINWYRKSQGNTMT...   \n",
       "743  IELVPEHQTVPVTIGVPATLRCSVKGAAIGDYYINWYRKDQGNTMT...   \n",
       "172  IELVPEHQTVPVTIGVPATLRCSVKGAAIGDYYINWYRKDQGNTMT...   \n",
       "\n",
       "                                          original_seq  seq_ident  \n",
       "545  IELVPEHQTVPVSIGVPATLRCSMKGEAIGNYYINWYRKTQGNTMT...   0.827982  \n",
       "473  IELVPEHQTVPVSIGVPATLRCSMKGEAIGNYYINWYRKTQGNTMT...   0.830275  \n",
       "288  IELVPEHQTVPVSIGVPATLRCSMKGEAIGNYYINWYRKTQGNTMT...   0.814220  \n",
       "491  IELVPEHQTVPVSIGVPATLRCSMKGEAIGNYYINWYRKTQGNTMT...   0.841743  \n",
       "73   IELVPEHQTVPVSIGVPATLRCSMKGEAIGNYYINWYRKTQGNTMT...   0.816514  \n",
       "..                                                 ...        ...  \n",
       "538  IELVPEHQTVPVSIGVPATLRCSMKGEAIGNYYINWYRKTQGNTMT...   0.823394  \n",
       "43   IELVPEHQTVPVSIGVPATLRCSMKGEAIGNYYINWYRKTQGNTMT...   0.823394  \n",
       "221  IELVPEHQTVPVSIGVPATLRCSMKGEAIGNYYINWYRKTQGNTMT...   0.811927  \n",
       "743  IELVPEHQTVPVSIGVPATLRCSMKGEAIGNYYINWYRKTQGNTMT...   0.809633  \n",
       "172  IELVPEHQTVPVSIGVPATLRCSMKGEAIGNYYINWYRKTQGNTMT...   0.816514  \n",
       "\n",
       "[126 rows x 14 columns]"
      ]
     },
     "execution_count": 11,
     "metadata": {},
     "output_type": "execute_result"
    }
   ],
   "source": [
    "filt = merged_df[merged_df[\"rmsd\"]<1.3]\n",
    "filt"
   ]
  },
  {
   "cell_type": "code",
   "execution_count": null,
   "metadata": {},
   "outputs": [],
   "source": []
  }
 ],
 "metadata": {
  "kernelspec": {
   "display_name": "pyro",
   "language": "python",
   "name": "python3"
  },
  "language_info": {
   "codemirror_mode": {
    "name": "ipython",
    "version": 3
   },
   "file_extension": ".py",
   "mimetype": "text/x-python",
   "name": "python",
   "nbconvert_exporter": "python",
   "pygments_lexer": "ipython3",
   "version": "3.10.11"
  }
 },
 "nbformat": 4,
 "nbformat_minor": 2
}
