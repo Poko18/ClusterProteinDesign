{
 "cells": [
  {
   "cell_type": "code",
   "execution_count": 1,
   "metadata": {},
   "outputs": [],
   "source": [
    "import os"
   ]
  },
  {
   "attachments": {},
   "cell_type": "markdown",
   "metadata": {},
   "source": [
    "## NEW\n",
    "- skip threading and FastRelax"
   ]
  },
  {
   "cell_type": "code",
   "execution_count": 2,
   "metadata": {},
   "outputs": [
    {
     "name": "stdout",
     "output_type": "stream",
     "text": [
      "This will generate 1000 designs per array job! In total 240000 designs (4800 diffusions)!\n"
     ]
    }
   ],
   "source": [
    "array_number=240 # If sequence scaffolds, then it should product of number 7\n",
    "array_limit=6\n",
    "\n",
    "scaffold_dir=\"../../scaffolds/scaffolds_V4/\"\n",
    "separate_scaffold_folders=True\n",
    "\n",
    "prefix=\"pcsk9\"\n",
    "target_pdb=\"examples/pcsk9_target_short.pdb\"\n",
    "hotspots='ppi.hotspot_res=[A59,A61,A64,A66]'\n",
    "\n",
    "num_of_diffusions=20 # Number of RF diffusions per script\n",
    "total_mpnn=50 # Total mpnn sequences for per design\n",
    "mpnn_per_design=50 # Filtered mpnn sequences for AF2\n",
    "\n",
    "# Other parameters\n",
    "num_recycles=3 # AF2 recycles\n",
    "sampling_temp=0.0001 # ProteinMPNN sampling temperature\n",
    "print(f\"This will generate {num_of_diffusions*mpnn_per_design} designs per array job! In total {num_of_diffusions*mpnn_per_design*array_number} designs ({num_of_diffusions*array_number} diffusions)!\")"
   ]
  },
  {
   "cell_type": "code",
   "execution_count": 3,
   "metadata": {},
   "outputs": [
    {
     "name": "stdout",
     "output_type": "stream",
     "text": [
      "Script will run 6 array scripts for each scaffold with 40 jobs (1000 designs each) with total of 40000.0 sampled designes per scaffold\n"
     ]
    }
   ],
   "source": [
    "def get_subdirectories(folder_path):\n",
    "    subdirectories = []\n",
    "    for entry in os.scandir(folder_path):\n",
    "        if entry.is_dir():\n",
    "            subdirectories.append(entry.path)\n",
    "    return subdirectories\n",
    "\n",
    "if separate_scaffold_folders:\n",
    "    scaffold_list=get_subdirectories(scaffold_dir)\n",
    "    scaffolds=len(scaffold_list)\n",
    "    print(f\"Script will run {scaffolds} array scripts for each scaffold with {array_number//scaffolds} jobs ({num_of_diffusions*mpnn_per_design} designs each) with total of {(array_number/scaffolds)*(num_of_diffusions*mpnn_per_design)} sampled designes per scaffold\")"
   ]
  },
  {
   "cell_type": "code",
   "execution_count": 4,
   "metadata": {},
   "outputs": [
    {
     "data": {
      "text/plain": [
       "['../../scaffolds/scaffolds_V4/27_3H',\n",
       " '../../scaffolds/scaffolds_V4/60_3Hs',\n",
       " '../../scaffolds/scaffolds_V4/4H_9',\n",
       " '../../scaffolds/scaffolds_V4/51_3H',\n",
       " '../../scaffolds/scaffolds_V4/lcb3',\n",
       " '../../scaffolds/scaffolds_V4/2H3E']"
      ]
     },
     "execution_count": 4,
     "metadata": {},
     "output_type": "execute_result"
    }
   ],
   "source": [
    "scaffold_list"
   ]
  },
  {
   "attachments": {},
   "cell_type": "markdown",
   "metadata": {},
   "source": [
    "## Runs slurm array script"
   ]
  },
  {
   "cell_type": "code",
   "execution_count": 5,
   "metadata": {},
   "outputs": [
    {
     "name": "stdout",
     "output_type": "stream",
     "text": [
      "Running sbatch --job-name=AH2_helix_binder_docking --array=1-40%1 helper_scripts/binder_dock.sh 20 50 50 3 0.0001 ../../scaffolds/scaffolds_V4/27_3H AH2_helix /home/tsatler/RFdif/ClusterProteinDesign/scripts/binder_design/examples/AH2_helix.pdb ppi.hotspot_res=[A59,A61,A64,A66]\n",
      "Submitted batch job 328456\n",
      "Running sbatch --job-name=AH2_helix_binder_docking --array=1-40%1 helper_scripts/binder_dock.sh 20 50 50 3 0.0001 ../../scaffolds/scaffolds_V4/60_3Hs AH2_helix /home/tsatler/RFdif/ClusterProteinDesign/scripts/binder_design/examples/AH2_helix.pdb ppi.hotspot_res=[A59,A61,A64,A66]\n",
      "Submitted batch job 328457\n",
      "Running sbatch --job-name=AH2_helix_binder_docking --array=1-40%1 helper_scripts/binder_dock.sh 20 50 50 3 0.0001 ../../scaffolds/scaffolds_V4/4H_9 AH2_helix /home/tsatler/RFdif/ClusterProteinDesign/scripts/binder_design/examples/AH2_helix.pdb ppi.hotspot_res=[A59,A61,A64,A66]\n",
      "Submitted batch job 328458\n",
      "Running sbatch --job-name=AH2_helix_binder_docking --array=1-40%1 helper_scripts/binder_dock.sh 20 50 50 3 0.0001 ../../scaffolds/scaffolds_V4/51_3H AH2_helix /home/tsatler/RFdif/ClusterProteinDesign/scripts/binder_design/examples/AH2_helix.pdb ppi.hotspot_res=[A59,A61,A64,A66]\n",
      "Submitted batch job 328459\n",
      "Running sbatch --job-name=AH2_helix_binder_docking --array=1-40%1 helper_scripts/binder_dock.sh 20 50 50 3 0.0001 ../../scaffolds/scaffolds_V4/lcb3 AH2_helix /home/tsatler/RFdif/ClusterProteinDesign/scripts/binder_design/examples/AH2_helix.pdb ppi.hotspot_res=[A59,A61,A64,A66]\n",
      "Submitted batch job 328460\n",
      "Running sbatch --job-name=AH2_helix_binder_docking --array=1-40%1 helper_scripts/binder_dock.sh 20 50 50 3 0.0001 ../../scaffolds/scaffolds_V4/2H3E AH2_helix /home/tsatler/RFdif/ClusterProteinDesign/scripts/binder_design/examples/AH2_helix.pdb ppi.hotspot_res=[A59,A61,A64,A66]\n",
      "Submitted batch job 328461\n"
     ]
    }
   ],
   "source": [
    "import subprocess\n",
    "\n",
    "if separate_scaffold_folders:\n",
    "    array_number=array_number//scaffolds\n",
    "    array_limit=array_limit//scaffolds\n",
    "\n",
    "    for i in range(scaffolds):\n",
    "        # Setup arguments\n",
    "        scaffold_dir=scaffold_list[i]\n",
    "        script_arguments=f\"{num_of_diffusions} {total_mpnn} {mpnn_per_design} {num_recycles} {sampling_temp} {scaffold_dir} {prefix} {target_pdb} {hotspots}\"\n",
    "        bash_arguments=f\"--job-name={prefix}_binder_docking --array=1-{array_number}%{array_limit}\"\n",
    "        \n",
    "        command = f\"sbatch {bash_arguments} helper_scripts/binder_dock_nothread.sh {script_arguments}\"\n",
    "\n",
    "        # Run the array bash script\n",
    "        print(f\"Running {command}\")\n",
    "        subprocess.run(command, shell=True)\n",
    "\n",
    "else:\n",
    "    script_arguments=f\"{num_of_diffusions} {total_mpnn} {mpnn_per_design} {num_recycles} {sampling_temp} {scaffold_dir} {prefix} {target_pdb} {hotspots}\"\n",
    "    bash_arguments=f\"--job-name={prefix}_binder_docking --array=1-{array_number}%{array_limit}\"\n",
    "        \n",
    "    command = f\"sbatch {bash_arguments} helper_scripts/binder_dock_nothread.sh {script_arguments}\"\n",
    "\n",
    "    # Run the array bash script\n",
    "    print(f\"Running {command}\")\n",
    "    subprocess.run(command, shell=True)\n",
    "\n",
    "#print(f\"command: {command}\")"
   ]
  },
  {
   "cell_type": "code",
   "execution_count": 13,
   "metadata": {},
   "outputs": [
    {
     "name": "stdout",
     "output_type": "stream",
     "text": [
      "             JOBID PARTITION     NAME     USER ST       TIME  NODES NODELIST(REASON)\n",
      "   328447_[8-56%8]       gpu predict_  tsatler PD       0:00      1 (JobArrayTaskLimit)\n",
      "   328456_[2-40%1]       gpu AH2_heli  tsatler PD       0:00      1 (JobArrayTaskLimit)\n",
      "   328457_[2-40%1]       gpu AH2_heli  tsatler PD       0:00      1 (JobArrayTaskLimit)\n",
      "   328458_[2-40%1]       gpu AH2_heli  tsatler PD       0:00      1 (JobArrayTaskLimit)\n",
      "   328459_[2-40%1]       gpu AH2_heli  tsatler PD       0:00      1 (JobArrayTaskLimit)\n",
      "   328460_[2-40%1]       gpu AH2_heli  tsatler PD       0:00      1 (JobArrayTaskLimit)\n",
      "   328461_[2-40%1]       gpu AH2_heli  tsatler PD       0:00      1 (JobArrayTaskLimit)\n",
      "          328447_0       gpu predict_  tsatler  R       2:08      1 compute-0-12\n",
      "          328447_1       gpu predict_  tsatler  R       2:08      1 compute-0-12\n",
      "          328447_2       gpu predict_  tsatler  R       2:08      1 compute-6-1\n",
      "          328447_3       gpu predict_  tsatler  R       2:08      1 compute-6-1\n",
      "          328447_4       gpu predict_  tsatler  R       2:08      1 compute-6-0\n",
      "          328447_5       gpu predict_  tsatler  R       2:08      1 compute-6-0\n",
      "          328447_6       gpu predict_  tsatler  R       2:08      1 compute-6-0\n",
      "          328447_7       gpu predict_  tsatler  R       2:08      1 compute-6-0\n",
      "          328456_1       gpu AH2_heli  tsatler  R       0:18      1 compute-6-0\n",
      "          328457_1       gpu AH2_heli  tsatler  R       0:18      1 compute-6-2\n",
      "          328458_1       gpu AH2_heli  tsatler  R       0:18      1 compute-6-2\n",
      "          328459_1       gpu AH2_heli  tsatler  R       0:18      1 compute-6-2\n",
      "          328460_1       gpu AH2_heli  tsatler  R       0:18      1 compute-6-2\n",
      "          328461_1       gpu AH2_heli  tsatler  R       0:18      1 compute-6-2\n"
     ]
    }
   ],
   "source": [
    "!squeue --me"
   ]
  },
  {
   "cell_type": "code",
   "execution_count": null,
   "metadata": {},
   "outputs": [],
   "source": []
  }
 ],
 "metadata": {
  "kernelspec": {
   "display_name": "pyro",
   "language": "python",
   "name": "python3"
  },
  "language_info": {
   "codemirror_mode": {
    "name": "ipython",
    "version": 3
   },
   "file_extension": ".py",
   "mimetype": "text/x-python",
   "name": "python",
   "nbconvert_exporter": "python",
   "pygments_lexer": "ipython3",
   "version": "3.9.7"
  },
  "orig_nbformat": 4
 },
 "nbformat": 4,
 "nbformat_minor": 2
}
