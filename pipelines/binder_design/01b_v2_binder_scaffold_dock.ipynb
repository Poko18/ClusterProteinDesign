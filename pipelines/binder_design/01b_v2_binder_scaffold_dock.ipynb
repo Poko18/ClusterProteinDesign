{
 "cells": [
  {
   "attachments": {},
   "cell_type": "markdown",
   "metadata": {},
   "source": [
    "## NEW\n",
    "- skip threading and FastRelax"
   ]
  },
  {
   "cell_type": "code",
   "execution_count": null,
   "metadata": {},
   "outputs": [],
   "source": [
    "import os\n",
    "num_gpus=5 #How many gpus to use\n",
    "\n",
    "scaffold_dir=\"../../scaffolds/scaffolds_V5/\"\n",
    "separate_scaffold_folders=True\n",
    "\n",
    "prefix=\"CD4-dom2-sample44-noise-40x\"\n",
    "target_pdb=\"target_pdb/c4-dom2-1cdh.pdb\"\n",
    "hotspots='ppi.hotspot_res=[A170,A1130,A165,A157,A135]'\n",
    "\n",
    "num_of_diffusions=40 # Number of RF diffusions to do per scaffold\n",
    "num_seqs=50 # How many MPNN sequences to generate per RF diffusion\n",
    "num_filtered_seqs=50 # How many of the MPNN generated sequences per RF diffusion to keep for AF2\n",
    "\n",
    "rfdiffusion_config = [\n",
    "  \"diffuser.T=50\",\n",
    "  \"'potentials.guiding_potentials=[\\\"type:binder_ROG,weight:3\\\"]'\", # \"type:binder_distance_ReLU\",\\\"type:interface_ncontacts\\\"\n",
    "  \"potentials.guide_scale=2\",\n",
    "  \"potentials.guide_decay=\\\"quadratic\\\"\",\n",
    "  \"denoiser.noise_scale_ca=0.5\",\n",
    "  \"denoiser.noise_scale_frame=0.5\"]\n",
    "\n",
    "if \"[A\" in hotspots:\n",
    "    rfdiffusion_config.append(hotspots)\n",
    "rfdiffusion_argument_string= \"+\".join(rfdiffusion_config)\n",
    "# Other parameters\n",
    "num_recycles=3 # AF2 recycles\n",
    "sampling_temp=0.0001 # ProteinMPNN sampling temperature\n",
    "\n",
    "def get_subdirectories(folder_path):\n",
    "    subdirectories = []\n",
    "    for entry in os.scandir(folder_path):\n",
    "        if entry.is_dir():\n",
    "            subdirectories.append(entry.path)\n",
    "    return subdirectories\n",
    "\n",
    "\n",
    "if separate_scaffold_folders:\n",
    "    scaffold_list=get_subdirectories(scaffold_dir)\n",
    "    scaffolds=len(scaffold_list)\n",
    "    print(scaffold_list)\n",
    "print(f\"JOB: {prefix}\")\n",
    "print(f\"TARGET: {target_pdb}\")\n",
    "print(f\"HOTSPOTS: {hotspots}\")\n",
    "\n",
    "def directory_exists(directory):\n",
    "    return os.path.isdir(directory)\n",
    "\n",
    "directory = f\"output/{prefix}\"\n",
    "if directory_exists(directory):\n",
    "    print(\"\"\"\\033[1;31;40m#####################\n",
    "PREFIX ALREADY EXISTS\n",
    "#####################\"\"\")\n",
    "else:\n",
    "    print(\"Prefix does not exist yet\")\n",
    "gpus_in_use = !squeue | grep -c 'gpu.*compute\\|compute.*gpu'\n",
    "print(f\"\\033[0mNumber of gpus already in use: {gpus_in_use[0]}/50\", end=\"\")"
   ]
  },
  {
   "attachments": {},
   "cell_type": "markdown",
   "metadata": {},
   "source": [
    "## Runs slurm array script"
   ]
  },
  {
   "cell_type": "code",
   "execution_count": null,
   "metadata": {},
   "outputs": [],
   "source": [
    "import subprocess\n",
    "os.makedirs(directory, exist_ok=True)\n",
    "if separate_scaffold_folders:\n",
    "    if num_gpus%scaffolds==0:   #If number of gpus is divisible by the number of scaffolds, make it so that each scaffold has its own gpu(s)\n",
    "        gpus_per_scaffold = num_gpus//scaffolds\n",
    "        diffusions_per_gpu = num_of_diffusions//gpus_per_scaffold\n",
    "        for i in range(scaffolds):\n",
    "            # Setup arguments\n",
    "            scaffold_dir=scaffold_list[i]\n",
    "            script_arguments=f\"{diffusions_per_gpu} {num_seqs} {num_filtered_seqs} {num_recycles} {sampling_temp} {scaffold_dir} {prefix} {target_pdb} {rfdiffusion_argument_string}\"\n",
    "            bash_arguments=f\"--output={directory}/slurm-%A_%a.out --job-name={prefix}_binder_docking --array=1-{gpus_per_scaffold}\"\n",
    "            \n",
    "            command = f\"sbatch {bash_arguments} helper_scripts/binder_dock_nothread.sh {script_arguments}\"\n",
    "\n",
    "            # Run the array bash script\n",
    "            print(f\"Running {command}\")\n",
    "            subprocess.run(command, shell=True)\n",
    "    else:\n",
    "        num_per_gpu=num_of_diffusions//num_gpus\n",
    "        scaffold_string = ','.join(scaffold_list)   #Converts list of scaffold directories into a string for parsing in shell script\n",
    "        script_arguments=f\"{num_per_gpu} {num_seqs} {num_filtered_seqs} {num_recycles} {sampling_temp} {scaffold_string} {prefix} {target_pdb} {rfdiffusion_argument_string}\"\n",
    "        bash_arguments=f\"--output={directory}/slurm-%A_%a.out --job-name={prefix}_binder_docking --array=1-{num_gpus}\"\n",
    "            \n",
    "        command = f\"sbatch {bash_arguments} helper_scripts/binder_dock_nothread.sh {script_arguments}\"\n",
    "\n",
    "        # Run the array bash script\n",
    "        print(f\"Running {command}\")\n",
    "        subprocess.run(command, shell=True)\n",
    "\n",
    "else:\n",
    "    script_arguments=f\"{num_of_diffusions} {num_seqs} {num_filtered_seqs} {num_recycles} {sampling_temp} {scaffold_dir} {prefix} {target_pdb} {rfdiffusion_argument_string}\"\n",
    "    bash_arguments=f\"--output={directory}/slurm-%A_%a.out --job-name={prefix}_binder_docking --array=1-{num_gpus}\"\n",
    "    \n",
    "    command = f\"sbatch {bash_arguments} helper_scripts/binder_dock_nothread.sh {script_arguments}\"\n",
    "\n",
    "    # Run the array bash script\n",
    "    print(f\"Running {command}\")\n",
    "    subprocess.run(command, shell=True)\n",
    "\n",
    "# print(f\"command: {command}\")"
   ]
  },
  {
   "cell_type": "code",
   "execution_count": null,
   "metadata": {},
   "outputs": [],
   "source": [
    "!squeue --me"
   ]
  },
  {
   "cell_type": "code",
   "execution_count": null,
   "metadata": {},
   "outputs": [],
   "source": []
  }
 ],
 "metadata": {
  "kernelspec": {
   "display_name": "base",
   "language": "python",
   "name": "python3"
  },
  "language_info": {
   "codemirror_mode": {
    "name": "ipython",
    "version": 3
   },
   "file_extension": ".py",
   "mimetype": "text/x-python",
   "name": "python",
   "nbconvert_exporter": "python",
   "pygments_lexer": "ipython3",
   "version": "3.11.7"
  },
  "orig_nbformat": 4
 },
 "nbformat": 4,
 "nbformat_minor": 2
}
